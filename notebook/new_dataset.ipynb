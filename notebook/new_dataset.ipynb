{
 "cells": [
  {
   "cell_type": "code",
   "execution_count": 1,
   "metadata": {},
   "outputs": [],
   "source": [
    "%load_ext autoreload\n",
    "%autoreload 2"
   ]
  },
  {
   "cell_type": "code",
   "execution_count": 2,
   "metadata": {},
   "outputs": [
    {
     "name": "stderr",
     "output_type": "stream",
     "text": [
      "/root/anaconda3/envs/torch18/lib/python3.8/site-packages/llvmlite/llvmpy/__init__.py:3: UserWarning: The module `llvmlite.llvmpy` is deprecated and will be removed in the future.\n",
      "  warnings.warn(\n",
      "/root/anaconda3/envs/torch18/lib/python3.8/site-packages/llvmlite/llvmpy/core.py:8: UserWarning: The module `llvmlite.llvmpy.core` is deprecated and will be removed in the future. Equivalent functionality is provided by `llvmlite.ir`.\n",
      "  warnings.warn(\n",
      "/root/anaconda3/envs/torch18/lib/python3.8/site-packages/llvmlite/llvmpy/passes.py:17: UserWarning: The module `llvmlite.llvmpy.passes` is deprecated and will be removed in the future. If you are using this code, it should be inlined into your own project.\n",
      "  warnings.warn(\n"
     ]
    }
   ],
   "source": [
    "import os\n",
    "import os.path as osp\n",
    "from glob import glob\n",
    "from tqdm.auto import tqdm\n",
    "import re\n",
    "\n",
    "import numpy as np\n",
    "from sklearn.model_selection import StratifiedShuffleSplit\n",
    "import torch\n",
    "\n",
    "import sys\n",
    "sys.path.append('/root/mediazen/speech2blendshape')\n",
    "\n",
    "from src.datasets.new_dataset import FaceDataset\n",
    "from src.datasets.new_datamodule import FaceDataModule\n",
    "from src.models.deepspeech import Jangnan\n",
    "from src.utils import plot_spectrogram, plot_result"
   ]
  },
  {
   "cell_type": "code",
   "execution_count": 3,
   "metadata": {},
   "outputs": [
    {
     "data": {
      "text/plain": [
       "(2631, 2631)"
      ]
     },
     "execution_count": 3,
     "metadata": {},
     "output_type": "execute_result"
    }
   ],
   "source": [
    "data_dir = '/shared/air/shared/youngkim/mediazen/preprocessed/'\n",
    "essential_dir = osp.join(data_dir, 'essentials')\n",
    "wav_dir = osp.join(data_dir, 'wav')\n",
    "\n",
    "essential_paths = [d.path for d in os.scandir(essential_dir)]\n",
    "wav_paths = [d.path for d in os.scandir(wav_dir)]\n",
    "\n",
    "len(essential_paths), len(wav_paths)\n"
   ]
  },
  {
   "cell_type": "code",
   "execution_count": 4,
   "metadata": {},
   "outputs": [],
   "source": [
    "ignored_columns_16 = [\"EyeBlinkLeft\", \"EyeBlinkRight\", \"EyeLookDownLeft\", \"EyeLookDownRight\", \"EyeLookInLeft\", \"EyeLookInRight\", \"EyeLookOutLeft\", \"EyeLookOutRight\", \"EyeBlinkLeft\", \"EyeBlinkRight\", \"EyeLookDownLeft\", \"EyeLookDownRight\", \"EyeLookInLeft\", \"EyeLookInRight\", \"EyeLookOutLeft\", \"EyeLookOutRight\", \"EyeLookUpLeft\", \"EyeLookUpRight\", \"EyeSquintLeft\", \"EyeSquintRight\", \"EyeWideLeft\", \"EyeWideRight\", \"BrowDownLeft\", \"BrowDownRight\", \"BrowInnerUp\", \"BrowOuterUpLeft\", \"BrowOuterUpRight\", \"CheekSquintLeft\", \"CheekSquintRight\", \"JawLeft\", \"JawRight\", \"MouthLeft\", \"MouthRight\", \"MouthUpperUpLeft\", \"MouthUpperUpRight\", \"MouthLowerDownLeft\", \"MouthLowerDownRight\", \"MouthSmileLeft\", \"MouthSmileRight\", \"MouthFrownLeft\", \"MouthFrownRight\", \"NoseSneerLeft\", \"NoseSneerRight\", \"HeadYaw\", \"HeadPitch\", \"HeadRoll\", \"TongueOut\", \"LeftEyeYaw\", \"LeftEyePitch\", \"LeftEyeRoll\", \"RightEyeYaw\", \"RightEyePitch\", \"RightEyeRoll\"]"
   ]
  },
  {
   "cell_type": "code",
   "execution_count": 32,
   "metadata": {},
   "outputs": [],
   "source": [
    "audio_blob_path = os.path.join(data_dir, 'ggongggong2/audio_ggongggong.pt')\n",
    "shape_blob_path = os.path.join(data_dir, 'ggongggong2/shape_ggongggong.pt')\n",
    "\n",
    "sample_rate, indices, audio_data, audio_lengths = torch.load(audio_blob_path)\n",
    "timecodes, blendshape_count, blendshape_columns, shape_data, shape_lengths, f_names = torch.load(shape_blob_path)\n",
    "data = list(zip(audio_data, audio_lengths, shape_data, shape_lengths, indices, timecodes, f_names))"
   ]
  },
  {
   "cell_type": "code",
   "execution_count": 36,
   "metadata": {},
   "outputs": [],
   "source": [
    "file_indices = [int(d.split('_')[0]) for d in f_names]\n",
    "sentence_nums = [re.sub(r'[^0-9]', '', d.split('_')[2]) for d in f_names]\n",
    "speaker_names = [re.sub(r'[0-9]+', '', d.split('_')[2]) for d in f_names]\n",
    "\n",
    "test_sentences = [5, 11, 18, 147, 183]\n",
    "train_valid_data_names = [d for i, d in enumerate(f_names) if int(sentence_nums[i]) not in test_sentences]\n",
    "test_data_names = [d for i, d in enumerate(f_names) if int(sentence_nums[i]) in test_sentences]\n",
    "\n",
    "sss = StratifiedShuffleSplit(n_splits=1, test_size=0.1, random_state=1234)\n",
    "indices = list(range(len(train_valid_data_names)))\n",
    "train_valid_sentence_nums = [re.sub(r'[^0-9]', '', os.path.basename(d).split('_')[2]) for d in train_valid_data_names]\n",
    "train_index, valid_index = next(iter(sss.split(indices, train_valid_sentence_nums)))\n",
    "\n",
    "train_valid_data_names = np.array(train_valid_data_names)\n",
    "\n",
    "train_data_names = train_valid_data_names[train_index]\n",
    "valid_data_names = train_valid_data_names[valid_index]\n",
    "\n",
    "train_file_indices = [int(d.split('_')[0]) for d in train_data_names]\n",
    "valid_file_indices = [int(d.split('_')[0]) for d in valid_data_names]\n",
    "test_file_indices = [int(d.split('_')[0]) for d in test_data_names]\n",
    "\n",
    "train_data = [xx[:4] for xx in data if xx[4].item() in train_file_indices]\n",
    "valid_data = [xx[:4] for xx in data if xx[4].item() in valid_file_indices]\n",
    "test_data = [xx for xx in data if xx[4].item() in test_file_indices]"
   ]
  },
  {
   "cell_type": "code",
   "execution_count": 37,
   "metadata": {},
   "outputs": [
    {
     "data": {
      "text/plain": [
       "(2308, 2308, 257, 257, 66, 66)"
      ]
     },
     "execution_count": 37,
     "metadata": {},
     "output_type": "execute_result"
    }
   ],
   "source": [
    "len(train_data), len(train_file_indices), len(valid_data), len(valid_file_indices), len(test_data), len(test_file_indices)"
   ]
  },
  {
   "cell_type": "code",
   "execution_count": 39,
   "metadata": {},
   "outputs": [
    {
     "data": {
      "text/plain": [
       "(tensor([[-0.2306, -0.2395, -0.2595,  ..., -0.2831, -0.2832, -0.2832],\n",
       "         [-0.2242, -0.1608, -0.2283,  ..., -0.2826, -0.2833, -0.2829],\n",
       "         [-0.1775, -0.2625, -0.2057,  ..., -0.2821, -0.2827, -0.2830],\n",
       "         ...,\n",
       "         [ 0.0000,  0.0000,  0.0000,  ...,  0.0000,  0.0000,  0.0000],\n",
       "         [ 0.0000,  0.0000,  0.0000,  ...,  0.0000,  0.0000,  0.0000],\n",
       "         [ 0.0000,  0.0000,  0.0000,  ...,  0.0000,  0.0000,  0.0000]]),\n",
       " tensor(4055, dtype=torch.int32),\n",
       " tensor([[0., 0., 0.,  ..., 0., 0., 0.],\n",
       "         [0., 0., 0.,  ..., 0., 0., 0.],\n",
       "         [0., 0., 0.,  ..., 0., 0., 0.],\n",
       "         ...,\n",
       "         [0., 0., 0.,  ..., 0., 0., 0.],\n",
       "         [0., 0., 0.,  ..., 0., 0., 0.],\n",
       "         [0., 0., 0.,  ..., 0., 0., 0.]]),\n",
       " tensor(2438, dtype=torch.int32))"
      ]
     },
     "execution_count": 39,
     "metadata": {},
     "output_type": "execute_result"
    }
   ],
   "source": [
    "train_data[0]"
   ]
  },
  {
   "cell_type": "code",
   "execution_count": 40,
   "metadata": {},
   "outputs": [
    {
     "data": {
      "text/plain": [
       "(tensor([[-0.2139, -0.2222, -0.2399,  ..., -0.2606, -0.2606, -0.2607],\n",
       "         [-0.2461, -0.1895, -0.2429,  ..., -0.2602, -0.2604, -0.2606],\n",
       "         [-0.1222, -0.2132, -0.2113,  ..., -0.2601, -0.2605, -0.2608],\n",
       "         ...,\n",
       "         [ 0.0000,  0.0000,  0.0000,  ...,  0.0000,  0.0000,  0.0000],\n",
       "         [ 0.0000,  0.0000,  0.0000,  ...,  0.0000,  0.0000,  0.0000],\n",
       "         [ 0.0000,  0.0000,  0.0000,  ...,  0.0000,  0.0000,  0.0000]]),\n",
       " tensor(6063, dtype=torch.int32),\n",
       " tensor([[2.8326e-03, 1.0338e-02, 1.1125e-02,  ..., 0.0000e+00, 0.0000e+00,\n",
       "          5.0443e-05],\n",
       "         [2.7040e-03, 1.0201e-02, 1.0967e-02,  ..., 0.0000e+00, 0.0000e+00,\n",
       "          0.0000e+00],\n",
       "         [2.5496e-03, 1.0059e-02, 1.0804e-02,  ..., 0.0000e+00, 0.0000e+00,\n",
       "          0.0000e+00],\n",
       "         ...,\n",
       "         [0.0000e+00, 0.0000e+00, 0.0000e+00,  ..., 0.0000e+00, 0.0000e+00,\n",
       "          0.0000e+00],\n",
       "         [0.0000e+00, 0.0000e+00, 0.0000e+00,  ..., 0.0000e+00, 0.0000e+00,\n",
       "          0.0000e+00],\n",
       "         [0.0000e+00, 0.0000e+00, 0.0000e+00,  ..., 0.0000e+00, 0.0000e+00,\n",
       "          0.0000e+00]]),\n",
       " tensor(3641, dtype=torch.int32),\n",
       " tensor(895, dtype=torch.int32),\n",
       " tensor([1173647098, 1173648098, 1173649097,  ...,          0,          0,\n",
       "                  0]),\n",
       " '895_20220823_LeeYuJin147_1')"
      ]
     },
     "execution_count": 40,
     "metadata": {},
     "output_type": "execute_result"
    }
   ],
   "source": [
    "test_data[0]"
   ]
  },
  {
   "cell_type": "code",
   "execution_count": 41,
   "metadata": {},
   "outputs": [],
   "source": [
    "import sys\n",
    "sys.path.append('/root/mediazen/speech2blendshape/src')\n",
    "\n",
    "from src.datasets.new_dataset import GGongGGongDataset"
   ]
  },
  {
   "cell_type": "code",
   "execution_count": 46,
   "metadata": {},
   "outputs": [],
   "source": [
    "test_dataset = GGongGGongDataset(test_data)"
   ]
  },
  {
   "cell_type": "code",
   "execution_count": 47,
   "metadata": {},
   "outputs": [],
   "source": [
    "from torch.utils.data import DataLoader\n",
    "test_dl = DataLoader(test_dataset, batch_size=32, num_workers=64, pin_memory=False)"
   ]
  },
  {
   "cell_type": "code",
   "execution_count": 48,
   "metadata": {},
   "outputs": [
    {
     "data": {
      "text/plain": [
       "[tensor([[[-0.2139, -0.2222, -0.2399,  ..., -0.2606, -0.2606, -0.2607],\n",
       "          [-0.2461, -0.1895, -0.2429,  ..., -0.2602, -0.2604, -0.2606],\n",
       "          [-0.1222, -0.2132, -0.2113,  ..., -0.2601, -0.2605, -0.2608],\n",
       "          ...,\n",
       "          [ 0.0000,  0.0000,  0.0000,  ...,  0.0000,  0.0000,  0.0000],\n",
       "          [ 0.0000,  0.0000,  0.0000,  ...,  0.0000,  0.0000,  0.0000],\n",
       "          [ 0.0000,  0.0000,  0.0000,  ...,  0.0000,  0.0000,  0.0000]],\n",
       " \n",
       "         [[-0.2717, -0.2723, -0.2740,  ..., -0.2784, -0.2785, -0.2785],\n",
       "          [-0.2301, -0.2535, -0.2662,  ..., -0.2780, -0.2780, -0.2777],\n",
       "          [-0.2211, -0.2286, -0.2652,  ..., -0.2781, -0.2785, -0.2783],\n",
       "          ...,\n",
       "          [ 0.0000,  0.0000,  0.0000,  ...,  0.0000,  0.0000,  0.0000],\n",
       "          [ 0.0000,  0.0000,  0.0000,  ...,  0.0000,  0.0000,  0.0000],\n",
       "          [ 0.0000,  0.0000,  0.0000,  ...,  0.0000,  0.0000,  0.0000]],\n",
       " \n",
       "         [[-0.1612, -0.3038, -0.2502,  ..., -0.3067, -0.3068, -0.3070],\n",
       "          [-0.0841, -0.1449, -0.2825,  ..., -0.3067, -0.3068, -0.3068],\n",
       "          [ 0.3644,  0.2313, -0.1137,  ..., -0.3062, -0.3069, -0.3070],\n",
       "          ...,\n",
       "          [ 0.0000,  0.0000,  0.0000,  ...,  0.0000,  0.0000,  0.0000],\n",
       "          [ 0.0000,  0.0000,  0.0000,  ...,  0.0000,  0.0000,  0.0000],\n",
       "          [ 0.0000,  0.0000,  0.0000,  ...,  0.0000,  0.0000,  0.0000]],\n",
       " \n",
       "         ...,\n",
       " \n",
       "         [[-0.2450, -0.2500, -0.2595,  ..., -0.2607, -0.2609, -0.2608],\n",
       "          [-0.0114, -0.1098, -0.2405,  ..., -0.2605, -0.2605, -0.2608],\n",
       "          [ 0.3368,  0.1667, -0.1666,  ..., -0.2605, -0.2600, -0.2608],\n",
       "          ...,\n",
       "          [ 0.0000,  0.0000,  0.0000,  ...,  0.0000,  0.0000,  0.0000],\n",
       "          [ 0.0000,  0.0000,  0.0000,  ...,  0.0000,  0.0000,  0.0000],\n",
       "          [ 0.0000,  0.0000,  0.0000,  ...,  0.0000,  0.0000,  0.0000]],\n",
       " \n",
       "         [[-0.2694, -0.2697, -0.2696,  ..., -0.2699, -0.2699, -0.2698],\n",
       "          [-0.2596, -0.2602, -0.2648,  ..., -0.2694, -0.2691, -0.2691],\n",
       "          [-0.1493, -0.1995, -0.2577,  ..., -0.2690, -0.2694, -0.2699],\n",
       "          ...,\n",
       "          [ 0.0000,  0.0000,  0.0000,  ...,  0.0000,  0.0000,  0.0000],\n",
       "          [ 0.0000,  0.0000,  0.0000,  ...,  0.0000,  0.0000,  0.0000],\n",
       "          [ 0.0000,  0.0000,  0.0000,  ...,  0.0000,  0.0000,  0.0000]],\n",
       " \n",
       "         [[-0.2597, -0.2583, -0.2576,  ..., -0.2614, -0.2614, -0.2615],\n",
       "          [-0.1261, -0.1686, -0.2360,  ..., -0.2613, -0.2612, -0.2616],\n",
       "          [ 0.1103,  0.1695, -0.0939,  ..., -0.2606, -0.2609, -0.2613],\n",
       "          ...,\n",
       "          [ 0.0000,  0.0000,  0.0000,  ...,  0.0000,  0.0000,  0.0000],\n",
       "          [ 0.0000,  0.0000,  0.0000,  ...,  0.0000,  0.0000,  0.0000],\n",
       "          [ 0.0000,  0.0000,  0.0000,  ...,  0.0000,  0.0000,  0.0000]]]),\n",
       " tensor([6063, 4818, 7842, 4055, 5099, 5223, 3739, 6370, 4802, 4935, 4259, 4619,\n",
       "         5847, 6260, 4219, 4505, 3460, 5086, 3583, 5815, 6216, 6862, 5952, 5099,\n",
       "         4229, 4649, 4208, 5232, 4902, 5589, 4823, 9295], dtype=torch.int32),\n",
       " tensor([[[2.8326e-03, 1.0338e-02, 1.1125e-02,  ..., 0.0000e+00,\n",
       "           0.0000e+00, 5.0443e-05],\n",
       "          [2.7040e-03, 1.0201e-02, 1.0967e-02,  ..., 0.0000e+00,\n",
       "           0.0000e+00, 0.0000e+00],\n",
       "          [2.5496e-03, 1.0059e-02, 1.0804e-02,  ..., 0.0000e+00,\n",
       "           0.0000e+00, 0.0000e+00],\n",
       "          ...,\n",
       "          [0.0000e+00, 0.0000e+00, 0.0000e+00,  ..., 0.0000e+00,\n",
       "           0.0000e+00, 0.0000e+00],\n",
       "          [0.0000e+00, 0.0000e+00, 0.0000e+00,  ..., 0.0000e+00,\n",
       "           0.0000e+00, 0.0000e+00],\n",
       "          [0.0000e+00, 0.0000e+00, 0.0000e+00,  ..., 0.0000e+00,\n",
       "           0.0000e+00, 0.0000e+00]],\n",
       " \n",
       "         [[8.1481e-04, 2.2443e-03, 0.0000e+00,  ..., 1.2295e-02,\n",
       "           1.0753e-02, 0.0000e+00],\n",
       "          [7.6910e-04, 1.9285e-03, 0.0000e+00,  ..., 1.2189e-02,\n",
       "           1.0676e-02, 0.0000e+00],\n",
       "          [7.1646e-04, 1.6184e-03, 0.0000e+00,  ..., 1.2071e-02,\n",
       "           1.0583e-02, 0.0000e+00],\n",
       "          ...,\n",
       "          [0.0000e+00, 0.0000e+00, 0.0000e+00,  ..., 0.0000e+00,\n",
       "           0.0000e+00, 0.0000e+00],\n",
       "          [0.0000e+00, 0.0000e+00, 0.0000e+00,  ..., 0.0000e+00,\n",
       "           0.0000e+00, 0.0000e+00],\n",
       "          [0.0000e+00, 0.0000e+00, 0.0000e+00,  ..., 0.0000e+00,\n",
       "           0.0000e+00, 0.0000e+00]],\n",
       " \n",
       "         [[8.7733e-03, 9.6066e-03, 9.3939e-03,  ..., 1.2014e-02,\n",
       "           1.2409e-02, 3.6606e-03],\n",
       "          [8.5852e-03, 9.1455e-03, 8.8090e-03,  ..., 1.1834e-02,\n",
       "           1.2225e-02, 3.5444e-03],\n",
       "          [8.3939e-03, 8.6932e-03, 8.2427e-03,  ..., 1.1635e-02,\n",
       "           1.2020e-02, 3.4173e-03],\n",
       "          ...,\n",
       "          [0.0000e+00, 0.0000e+00, 0.0000e+00,  ..., 0.0000e+00,\n",
       "           0.0000e+00, 0.0000e+00],\n",
       "          [0.0000e+00, 0.0000e+00, 0.0000e+00,  ..., 0.0000e+00,\n",
       "           0.0000e+00, 0.0000e+00],\n",
       "          [0.0000e+00, 0.0000e+00, 0.0000e+00,  ..., 0.0000e+00,\n",
       "           0.0000e+00, 0.0000e+00]],\n",
       " \n",
       "         ...,\n",
       " \n",
       "         [[0.0000e+00, 9.3387e-03, 7.9507e-03,  ..., 0.0000e+00,\n",
       "           0.0000e+00, 0.0000e+00],\n",
       "          [0.0000e+00, 9.2601e-03, 7.8553e-03,  ..., 0.0000e+00,\n",
       "           0.0000e+00, 0.0000e+00],\n",
       "          [0.0000e+00, 9.2605e-03, 7.8606e-03,  ..., 0.0000e+00,\n",
       "           0.0000e+00, 0.0000e+00],\n",
       "          ...,\n",
       "          [0.0000e+00, 0.0000e+00, 0.0000e+00,  ..., 0.0000e+00,\n",
       "           0.0000e+00, 0.0000e+00],\n",
       "          [0.0000e+00, 0.0000e+00, 0.0000e+00,  ..., 0.0000e+00,\n",
       "           0.0000e+00, 0.0000e+00],\n",
       "          [0.0000e+00, 0.0000e+00, 0.0000e+00,  ..., 0.0000e+00,\n",
       "           0.0000e+00, 0.0000e+00]],\n",
       " \n",
       "         [[1.1263e-02, 0.0000e+00, 0.0000e+00,  ..., 1.1721e-01,\n",
       "           1.1307e-01, 2.8955e-02],\n",
       "          [1.1251e-02, 0.0000e+00, 0.0000e+00,  ..., 1.1674e-01,\n",
       "           1.1259e-01, 2.8914e-02],\n",
       "          [1.1244e-02, 0.0000e+00, 0.0000e+00,  ..., 1.1632e-01,\n",
       "           1.1219e-01, 2.8872e-02],\n",
       "          ...,\n",
       "          [0.0000e+00, 0.0000e+00, 0.0000e+00,  ..., 0.0000e+00,\n",
       "           0.0000e+00, 0.0000e+00],\n",
       "          [0.0000e+00, 0.0000e+00, 0.0000e+00,  ..., 0.0000e+00,\n",
       "           0.0000e+00, 0.0000e+00],\n",
       "          [0.0000e+00, 0.0000e+00, 0.0000e+00,  ..., 0.0000e+00,\n",
       "           0.0000e+00, 0.0000e+00]],\n",
       " \n",
       "         [[0.0000e+00, 0.0000e+00, 0.0000e+00,  ..., 1.2550e-03,\n",
       "           1.3197e-03, 0.0000e+00],\n",
       "          [0.0000e+00, 0.0000e+00, 0.0000e+00,  ..., 1.1661e-03,\n",
       "           1.2339e-03, 0.0000e+00],\n",
       "          [0.0000e+00, 0.0000e+00, 0.0000e+00,  ..., 1.0843e-03,\n",
       "           1.1544e-03, 0.0000e+00],\n",
       "          ...,\n",
       "          [0.0000e+00, 0.0000e+00, 0.0000e+00,  ..., 0.0000e+00,\n",
       "           0.0000e+00, 0.0000e+00],\n",
       "          [0.0000e+00, 0.0000e+00, 0.0000e+00,  ..., 0.0000e+00,\n",
       "           0.0000e+00, 0.0000e+00],\n",
       "          [0.0000e+00, 0.0000e+00, 0.0000e+00,  ..., 0.0000e+00,\n",
       "           0.0000e+00, 0.0000e+00]]]),\n",
       " tensor([3641, 2896, 4710, 2437, 3064, 3139, 2248, 3825, 2886, 2966, 2561, 2775,\n",
       "         3513, 3761, 2536, 2708, 2081, 3055, 2156, 3494, 3734, 4121, 3575, 3065,\n",
       "         2542, 2794, 2530, 3143, 2947, 3357, 2899, 5581], dtype=torch.int32),\n",
       " tensor([ 895,  284, 1754, 2216,  865, 1264, 2522, 1589, 1821,  393, 1518,  171,\n",
       "         2413,  579,  124, 1982,  666,   58, 2586, 1425,  543,  793,  154, 2035,\n",
       "         1225,  323, 1065, 1189,  353, 1928, 2482, 1389], dtype=torch.int32),\n",
       " tensor([[ 1173647098,  1173648098,  1173649097,  ...,           0,\n",
       "                    0,           0],\n",
       "         [23360052824, 23360053823, 23360054823,  ...,           0,\n",
       "                    0,           0],\n",
       "         [ 3204014985,  3204015985,  3204016984,  ...,           0,\n",
       "                    0,           0],\n",
       "         ...,\n",
       "         [ 7002534604,  7002535603,  7002536603,  ...,           0,\n",
       "                    0,           0],\n",
       "         [ 8030259769,  8030300769,  8030301769,  ...,           0,\n",
       "                    0,           0],\n",
       "         [11593003431, 11593004431, 11593005430,  ...,           0,\n",
       "                    0,           0]]),\n",
       " ('895_20220823_LeeYuJin147_1',\n",
       "  '284_20220729_LeeYooHonew183_0',\n",
       "  '1754_20220916_Suljuhwan147_0',\n",
       "  '2216_20220926_lcy5_0',\n",
       "  '865_20220823_LeeYuJin11_0',\n",
       "  '1264_20220831_kye11_0',\n",
       "  '2522_20221006_jiha183_0',\n",
       "  '1589_20220914_SeoHeeJoo147_0',\n",
       "  '1821_20220919_AanSeoHue18_0',\n",
       "  '393_20220808_mjki183_1',\n",
       "  '1518_20220913_SeoHeeJoo5_2',\n",
       "  '171_20220728_LeeYooHonew18_0',\n",
       "  '2413_20220929_Suljuhwan183_0',\n",
       "  '579_20220809_hynew183_0',\n",
       "  '124_20220728_LeeYooHonew11_1',\n",
       "  '1982_20220921_ohongsuck11_0',\n",
       "  '666_20220810_bbs5_0',\n",
       "  '58_20220727_hynew5_0',\n",
       "  '2586_20221006_jiha5_0',\n",
       "  '1425_20220902_kye183_0',\n",
       "  '543_20220809_hynew147_1',\n",
       "  '793_20220812_bbs147_0',\n",
       "  '154_20220728_LeeYooHonew147_1',\n",
       "  '2035_20220921_ohongsuck5_1',\n",
       "  '1225_20220830_kmg183_1',\n",
       "  '323_20220808_mjki11_3',\n",
       "  '1065_20220829_kmg11_0',\n",
       "  '1189_20220830_kmg147_2',\n",
       "  '353_20220808_mjki147_2',\n",
       "  '1928_20220920_AnnSeoHue147_0',\n",
       "  '2482_20221006_jiha147_0',\n",
       "  '1389_20220902_kye147_2')]"
      ]
     },
     "execution_count": 48,
     "metadata": {},
     "output_type": "execute_result"
    }
   ],
   "source": [
    "for batch in test_dl:\n",
    "    break\n",
    "\n",
    "batch"
   ]
  },
  {
   "cell_type": "code",
   "execution_count": null,
   "metadata": {},
   "outputs": [],
   "source": []
  },
  {
   "cell_type": "code",
   "execution_count": null,
   "metadata": {},
   "outputs": [],
   "source": []
  },
  {
   "cell_type": "code",
   "execution_count": null,
   "metadata": {},
   "outputs": [],
   "source": []
  },
  {
   "cell_type": "code",
   "execution_count": null,
   "metadata": {},
   "outputs": [],
   "source": []
  },
  {
   "cell_type": "code",
   "execution_count": null,
   "metadata": {},
   "outputs": [],
   "source": []
  },
  {
   "cell_type": "code",
   "execution_count": null,
   "metadata": {},
   "outputs": [],
   "source": []
  },
  {
   "cell_type": "code",
   "execution_count": null,
   "metadata": {},
   "outputs": [
    {
     "data": {
      "application/vnd.jupyter.widget-view+json": {
       "model_id": "dfc4f0843cd340fcbbc67791b2ca87c0",
       "version_major": 2,
       "version_minor": 0
      },
      "text/plain": [
       "0it [00:00, ?it/s]"
      ]
     },
     "metadata": {},
     "output_type": "display_data"
    }
   ],
   "source": [
    "# audio_ggongggong\n",
    "indices = []\n",
    "spectrograms = []\n",
    "spectrogram_lengths = []\n",
    "speakers = []\n",
    "f_names = []\n",
    "\n",
    "# shape_ggongggong\n",
    "timecodes = []\n",
    "blendshapes = []\n",
    "blendshape_lengths = []\n",
    "\n",
    "target_dir = '/shared/youngkim/mediazen/preprocessed/column16/'\n",
    "\n",
    "for essential in tqdm(os.scandir('/shared/youngkim/mediazen/preprocessed/essentials/')):\n",
    "    \n",
    "    f_name = os.path.splitext(essential.name)[0]\n",
    "    idx = int(f_name.split('_')[0])\n",
    "    speaker = re.sub(r'[0-9]+', '', f_name.split('_')[2])\n",
    "\n",
    "    # spectrogram: torch.Tensor (audio_frame, 161)\n",
    "    # sample_rate: Int, 16000\n",
    "    # blendshape: Dict (Timecode, BlendShapeCount, *(BlendShapeColumns))\n",
    "    spectrogram, sample_rate, blendshape = torch.load(essential.path)\n",
    "    spectrogram_length = len(spectrogram)\n",
    "    # ignored_columns에 대문자 오타때문에 다시 걸러줌\n",
    "    for column in ignored_columns_16:\n",
    "        if column in blendshape.keys():\n",
    "            del(blendshape[column])\n",
    "    timecode = blendshape.pop('Timecode') # List (shape_frame)\n",
    "    blendshape_count = blendshape.pop('BlendShapeCount')[0] # Int, 61 -> 필요없음\n",
    "    blendshape_columns = list(blendshape.keys()) # List (num. of blendshape)\n",
    "    try:\n",
    "        blendshape_tensor = torch.Tensor(list(blendshape.values())).T # torch.Tensor (shape_frame, num. of blendshape)\n",
    "    except TypeError:\n",
    "        print('blendshape type error: ', essential.path)\n",
    "        continue\n",
    "    blendshape_length = len(blendshape_tensor)\n",
    "    \n",
    "\n",
    "    # error check\n",
    "    if sample_rate != 16000:\n",
    "        print('sample rate error: ', essential.path)\n",
    "        continue\n",
    "\n",
    "    if torch.sum(spectrogram.isnan()):\n",
    "        print('spectrogram nan error: ', essential.path)\n",
    "        continue\n",
    "    \n",
    "    if torch.sum(blendshape_tensor.isnan()):\n",
    "        print('blendshape nan error: ', essential.path)\n",
    "        break\n",
    "\n",
    "    \n",
    "    target_file = osp.join(target_dir, f'{f_name}.pt')\n",
    "    torch.save({\n",
    "        \"idx\": idx, # int\n",
    "        \"spectrogram\": torch.FloatTensor(spectrogram), # tensor\n",
    "        \"spectrogram_length\": spectrogram_length, # int\n",
    "        \"speaker\": speaker, # str\n",
    "        \"timecode\": torch.FloatTensor(timecode), # tensor\n",
    "        \"blendshape_tensor\": torch.FloatTensor(blendshape_tensor), # tensor\n",
    "        \"blendshape_length\": blendshape_length, # int\n",
    "    }, target_file)"
   ]
  },
  {
   "cell_type": "code",
   "execution_count": null,
   "metadata": {},
   "outputs": [
    {
     "data": {
      "text/plain": [
       "['JawForward',\n",
       " 'JawOpen',\n",
       " 'MouthClose',\n",
       " 'MouthFunnel',\n",
       " 'MouthPucker',\n",
       " 'MouthDimpleLeft',\n",
       " 'MouthDimpleRight',\n",
       " 'MouthStretchLeft',\n",
       " 'MouthStretchRight',\n",
       " 'MouthRollLower',\n",
       " 'MouthRollUpper',\n",
       " 'MouthShrugLower',\n",
       " 'MouthShrugUpper',\n",
       " 'MouthPressLeft',\n",
       " 'MouthPressRight',\n",
       " 'CheekPuff']"
      ]
     },
     "metadata": {},
     "output_type": "display_data"
    }
   ],
   "source": [
    "blendshape_columns"
   ]
  },
  {
   "cell_type": "code",
   "execution_count": null,
   "metadata": {},
   "outputs": [
    {
     "data": {
      "application/vnd.jupyter.widget-view+json": {
       "model_id": "e5170946930f48c3abae7550334c848b",
       "version_major": 2,
       "version_minor": 0
      },
      "text/plain": [
       "  0%|          | 0/2631 [00:00<?, ?it/s]"
      ]
     },
     "metadata": {},
     "output_type": "display_data"
    }
   ],
   "source": [
    "target_dir = '/shared/youngkim/mediazen/preprocessed/column16/'\n",
    "# os.mkdir(target_dir)\n",
    "\n",
    "for i in tqdm(range(len(indices))):\n",
    "    idx = indices[i]\n",
    "    spectrogram = torch.FloatTensor(spectrograms[i])\n",
    "    spectrogram_length = spectrogram_lengths[i]\n",
    "    speaker = speakers[i]\n",
    "    timecode = torch.LongTensor([int(time.replace(':', '').replace('.', '')) for time in timecodes[i]])\n",
    "    blendshape_tensor = torch.FloatTensor(blendshapes[i])\n",
    "    blendshape_length = blendshape_lengths[i]\n",
    "\n",
    "    target_file = osp.join(target_dir, f'{f_names[i]}.pt')\n",
    "    torch.save({\n",
    "        \"idx\": idx,\n",
    "        \"spectrogram\": spectrogram,\n",
    "        \"spectrogram_length\": spectrogram_length,\n",
    "        \"speaker\": speaker,\n",
    "        \"timecode\": timecode,\n",
    "        \"blendshape_tensor\": blendshape_tensor,\n",
    "        \"blendshape_length\": blendshape_length,\n",
    "    }, target_file)\n"
   ]
  },
  {
   "cell_type": "code",
   "execution_count": null,
   "metadata": {},
   "outputs": [
    {
     "data": {
      "text/plain": [
       "(3328, 11682)"
      ]
     },
     "metadata": {},
     "output_type": "display_data"
    }
   ],
   "source": [
    "min(spectrogram_lengths), max(spectrogram_lengths)"
   ]
  },
  {
   "cell_type": "code",
   "execution_count": null,
   "metadata": {},
   "outputs": [
    {
     "data": {
      "text/plain": [
       "({'AanSeoHue',\n",
       "  'AnnSeoHue',\n",
       "  'LeeYooHonew',\n",
       "  'LeeYuJin',\n",
       "  'Ohongsuck',\n",
       "  'SeoHeeJoo',\n",
       "  'Suljuhwan',\n",
       "  'bbs',\n",
       "  'hbinew',\n",
       "  'hynew',\n",
       "  'jiha',\n",
       "  'kmg',\n",
       "  'kye',\n",
       "  'lcy',\n",
       "  'mjki',\n",
       "  'ohongsuck'},\n",
       " 16)"
      ]
     },
     "metadata": {},
     "output_type": "display_data"
    }
   ],
   "source": [
    "sp = set(speakers)\n",
    "sp, len(sp)"
   ]
  },
  {
   "cell_type": "code",
   "execution_count": null,
   "metadata": {},
   "outputs": [
    {
     "data": {
      "text/plain": [
       "['1318_20220831_kye5_0',\n",
       " '588_20220809_hynew192_0',\n",
       " '256_20220728_LeeYooHonew96_0']"
      ]
     },
     "metadata": {},
     "output_type": "display_data"
    }
   ],
   "source": [
    "f_names[:3]"
   ]
  },
  {
   "cell_type": "code",
   "execution_count": null,
   "metadata": {},
   "outputs": [
    {
     "data": {
      "text/plain": [
       "['/shared/youngkim/mediazen/preprocessed/column16/661_20220810_bbs54_0.pt',\n",
       " '/shared/youngkim/mediazen/preprocessed/column16/469_20220808_mjki70_0.pt']"
      ]
     },
     "metadata": {},
     "output_type": "display_data"
    }
   ],
   "source": [
    "[d.path for d in os.scandir(target_dir)][:2]"
   ]
  },
  {
   "cell_type": "code",
   "execution_count": null,
   "metadata": {},
   "outputs": [],
   "source": [
    "from sklearn.model_selection import train_test_split"
   ]
  },
  {
   "cell_type": "code",
   "execution_count": null,
   "metadata": {},
   "outputs": [
    {
     "data": {
      "text/plain": [
       "('/shared/youngkim/mediazen/preprocessed/column16/661_20220810_bbs54_0.pt',\n",
       " 2631)"
      ]
     },
     "metadata": {},
     "output_type": "display_data"
    }
   ],
   "source": [
    "data_paths = [d.path for d in os.scandir(target_dir)]\n",
    "data_paths[0], len(data_paths)"
   ]
  },
  {
   "cell_type": "code",
   "execution_count": null,
   "metadata": {},
   "outputs": [
    {
     "data": {
      "text/plain": [
       "(['54', '70', '117', '185', '118', '32', '183', '140', '106', '159'],\n",
       " ['bbs',\n",
       "  'mjki',\n",
       "  'LeeYuJin',\n",
       "  'jiha',\n",
       "  'LeeYuJin',\n",
       "  'kmg',\n",
       "  'LeeYooHonew',\n",
       "  'AnnSeoHue',\n",
       "  'mjki',\n",
       "  'LeeYooHonew'])"
      ]
     },
     "metadata": {},
     "output_type": "display_data"
    }
   ],
   "source": [
    "file_names = [os.path.basename(d) for d in data_paths]\n",
    "sentence_nums = [re.sub(r'[^0-9]', '', d.split('_')[2]) for d in file_names]\n",
    "speaker_names = [re.sub(r'[0-9]+', '', d.split('_')[2]) for d in file_names]\n",
    "sentence_nums[:10], speaker_names[:10]"
   ]
  },
  {
   "cell_type": "code",
   "execution_count": null,
   "metadata": {},
   "outputs": [
    {
     "name": "stdout",
     "output_type": "stream",
     "text": [
      "264 2367\n"
     ]
    }
   ],
   "source": [
    "\n",
    "sss = StratifiedShuffleSplit(n_splits=1, test_size=0.1, random_state=1234)\n",
    "\n",
    "data_indices = list(range(len(data_paths)))\n",
    "\n",
    "test_index, val_index = sss.split(indices, sentence_nums)"
   ]
  },
  {
   "cell_type": "code",
   "execution_count": null,
   "metadata": {},
   "outputs": [],
   "source": [
    "test_sentences = [5, 11, 18, 147, 183]"
   ]
  },
  {
   "cell_type": "code",
   "execution_count": null,
   "metadata": {},
   "outputs": [
    {
     "data": {
      "text/plain": [
       "('/shared/youngkim/mediazen/preprocessed/column16/661_20220810_bbs54_0.pt',\n",
       " 2565,\n",
       " '/shared/youngkim/mediazen/preprocessed/column16/284_20220729_LeeYooHonew183_0.pt',\n",
       " 66)"
      ]
     },
     "metadata": {},
     "output_type": "display_data"
    }
   ],
   "source": [
    "train_file_names = [d for i, d in enumerate(data_paths) if int(sentence_nums[i]) not in test_sentences]\n",
    "test_file_names = [d for i, d in enumerate(data_paths) if int(sentence_nums[i]) in test_sentences]\n",
    "\n",
    "train_file_names[0], len(train_file_names), test_file_names[0], len(test_file_names)"
   ]
  },
  {
   "cell_type": "code",
   "execution_count": null,
   "metadata": {},
   "outputs": [
    {
     "data": {
      "text/plain": [
       "2631"
      ]
     },
     "metadata": {},
     "output_type": "display_data"
    }
   ],
   "source": [
    "len(data_paths)"
   ]
  },
  {
   "cell_type": "code",
   "execution_count": null,
   "metadata": {},
   "outputs": [],
   "source": [
    "data_paths = [d.path for d in os.scandir(target_dir)]\n",
    "file_names = [os.path.basename(d) for d in data_paths]\n",
    "sentence_nums = [re.sub(r'[^0-9]', '', d.split('_')[2]) for d in file_names]\n",
    "speaker_names = [re.sub(r'[0-9]+', '', d.split('_')[2]) for d in file_names]\n",
    "\n",
    "test_sentences = [5, 11, 18, 147, 183]\n",
    "train_data_paths = [d for i, d in enumerate(data_paths) if int(sentence_nums[i]) not in test_sentences]\n",
    "test_data_paths = [d for i, d in enumerate(data_paths) if int(sentence_nums[i]) in test_sentences]\n",
    "\n",
    "\n",
    "sss = StratifiedShuffleSplit(n_splits=1, test_size=0.1, random_state=1234)\n",
    "indices = list(range(len(train_data_paths)))\n",
    "train_sentence_nums = [re.sub(r'[^0-9]', '', os.path.basename(d).split('_')[2]) for d in train_data_paths]\n",
    "train_index, valid_index = next(iter(sss.split(indices, train_sentence_nums)))"
   ]
  },
  {
   "cell_type": "code",
   "execution_count": null,
   "metadata": {},
   "outputs": [
    {
     "data": {
      "text/plain": [
       "(257, 2308)"
      ]
     },
     "metadata": {},
     "output_type": "display_data"
    }
   ],
   "source": [
    "len(valid_index), len(train_index)"
   ]
  },
  {
   "cell_type": "code",
   "execution_count": null,
   "metadata": {},
   "outputs": [
    {
     "data": {
      "text/plain": [
       "array([ 950, 1006, 1051, ...,  767, 1610, 2033])"
      ]
     },
     "metadata": {},
     "output_type": "display_data"
    }
   ],
   "source": [
    "train_index"
   ]
  },
  {
   "cell_type": "code",
   "execution_count": null,
   "metadata": {},
   "outputs": [
    {
     "data": {
      "text/plain": [
       "array(['/shared/youngkim/mediazen/preprocessed/column16/906_20220823_LeeYuJin157_2.pt',\n",
       "       '/shared/youngkim/mediazen/preprocessed/column16/2221_20220926_lcy64_0.pt',\n",
       "       '/shared/youngkim/mediazen/preprocessed/column16/2067_20220921_ohongsuck89_0.pt',\n",
       "       ...,\n",
       "       '/shared/youngkim/mediazen/preprocessed/column16/621_20220810_bbs15_0.pt',\n",
       "       '/shared/youngkim/mediazen/preprocessed/column16/33_20220727_hynew37_0.pt',\n",
       "       '/shared/youngkim/mediazen/preprocessed/column16/2079_20220922_ohongsuck108_0.pt'],\n",
       "      dtype='<U83')"
      ]
     },
     "metadata": {},
     "output_type": "display_data"
    }
   ],
   "source": [
    "import numpy as np\n",
    "np.array(train_data_paths)[train_index]"
   ]
  },
  {
   "cell_type": "code",
   "execution_count": null,
   "metadata": {},
   "outputs": [],
   "source": []
  },
  {
   "cell_type": "code",
   "execution_count": null,
   "metadata": {},
   "outputs": [],
   "source": [
    "data_dir = '/shared/youngkim/mediazen/preprocessed/column16/'\n",
    "\n",
    "data_paths = [d.path for d in os.scandir(data_dir)]\n",
    "file_names = [os.path.basename(d) for d in data_paths]\n",
    "sentence_nums = [re.sub(r'[^0-9]', '', d.split('_')[2]) for d in file_names]\n",
    "speaker_names = [re.sub(r'[0-9]+', '', d.split('_')[2]) for d in file_names]\n",
    "\n",
    "test_sentences = [5, 11, 18, 147, 183]\n",
    "train_data_paths = [d for i, d in enumerate(data_paths) if int(sentence_nums[i]) not in test_sentences]\n",
    "test_data_paths = [d for i, d in enumerate(data_paths) if int(sentence_nums[i]) in test_sentences]\n",
    "\n",
    "sss = StratifiedShuffleSplit(n_splits=1, test_size=0.1, random_state=1234)\n",
    "indices = list(range(len(train_data_paths)))\n",
    "train_sentence_nums = [re.sub(r'[^0-9]', '', os.path.basename(d).split('_')[2]) for d in train_data_paths]\n",
    "train_index, valid_index = next(iter(sss.split(indices, train_sentence_nums)))"
   ]
  },
  {
   "cell_type": "code",
   "execution_count": null,
   "metadata": {},
   "outputs": [],
   "source": []
  },
  {
   "cell_type": "code",
   "execution_count": null,
   "metadata": {},
   "outputs": [],
   "source": []
  },
  {
   "cell_type": "code",
   "execution_count": null,
   "metadata": {},
   "outputs": [],
   "source": [
    "from dataclasses import dataclass\n",
    "\n",
    "@dataclass\n",
    "class Args:\n",
    "    data_dir: str\n",
    "    batch_size: int\n",
    "    num_workers: int\n",
    "    seed: int"
   ]
  },
  {
   "cell_type": "code",
   "execution_count": null,
   "metadata": {},
   "outputs": [],
   "source": [
    "data_dir = '/shared/youngkim/mediazen/preprocessed/column16/'\n",
    "args = Args(data_dir, 32, 64, 1234)"
   ]
  },
  {
   "cell_type": "code",
   "execution_count": null,
   "metadata": {},
   "outputs": [],
   "source": [
    "dm = FaceDataModule(args)\n",
    "dm.prepare_data()\n",
    "dm.setup(stage='fit')\n",
    "dm.setup(stage='test')"
   ]
  },
  {
   "cell_type": "code",
   "execution_count": null,
   "metadata": {},
   "outputs": [],
   "source": [
    "sample_train_data = dm.train_dataset[0]\n",
    "sample_test_data = dm.test_dataset[0]"
   ]
  },
  {
   "cell_type": "code",
   "execution_count": null,
   "metadata": {},
   "outputs": [
    {
     "ename": "KeyError",
     "evalue": "'f_name'",
     "output_type": "error",
     "traceback": [
      "\u001b[0;31m---------------------------------------------------------------------------\u001b[0m\n",
      "\u001b[0;31mKeyError\u001b[0m                                  Traceback (most recent call last)\n",
      "\u001b[0;32m/tmp/ipykernel_156158/3515188238.py\u001b[0m in \u001b[0;36m<module>\u001b[0;34m\u001b[0m\n",
      "\u001b[0;32m----> 1\u001b[0;31m \u001b[0msample_train_data\u001b[0m\u001b[0;34m.\u001b[0m\u001b[0mkeys\u001b[0m\u001b[0;34m(\u001b[0m\u001b[0;34m)\u001b[0m\u001b[0;34m,\u001b[0m \u001b[0msample_train_data\u001b[0m\u001b[0;34m[\u001b[0m\u001b[0;34m'f_name'\u001b[0m\u001b[0;34m]\u001b[0m\u001b[0;34m\u001b[0m\u001b[0;34m\u001b[0m\u001b[0m\n",
      "\u001b[0m\n",
      "\u001b[0;31mKeyError\u001b[0m: 'f_name'"
     ]
    }
   ],
   "source": [
    "sample_train_data.keys(), sample_train_data['f_name']"
   ]
  },
  {
   "cell_type": "code",
   "execution_count": null,
   "metadata": {},
   "outputs": [
    {
     "data": {
      "text/plain": [
       "(dict_keys(['idx', 'spectrogram', 'spectrogram_length', 'speaker', 'timecode', 'blendshape_tensor', 'blendshape_length', 'f_name']),\n",
       " '666_20220810_bbs5_0')"
      ]
     },
     "metadata": {},
     "output_type": "display_data"
    }
   ],
   "source": [
    "sample_test_data.keys(), sample_test_data['f_name']"
   ]
  },
  {
   "cell_type": "code",
   "execution_count": null,
   "metadata": {},
   "outputs": [],
   "source": [
    "dl_train = dm.train_dataloader()"
   ]
  },
  {
   "cell_type": "code",
   "execution_count": null,
   "metadata": {},
   "outputs": [],
   "source": [
    "for batch in dl_train:\n",
    "    len(batch)\n",
    "    break"
   ]
  },
  {
   "cell_type": "code",
   "execution_count": null,
   "metadata": {},
   "outputs": [
    {
     "data": {
      "text/plain": [
       "4"
      ]
     },
     "metadata": {},
     "output_type": "display_data"
    }
   ],
   "source": [
    "len(batch)"
   ]
  },
  {
   "cell_type": "code",
   "execution_count": null,
   "metadata": {},
   "outputs": [
    {
     "data": {
      "text/plain": [
       "[tensor([[[-0.2436, -0.2436, -0.2437,  ..., -0.2448, -0.2448, -0.2448],\n",
       "          [-0.2381, -0.2119, -0.2163,  ..., -0.2445, -0.2446, -0.2447],\n",
       "          [ 0.0259, -0.0723, -0.1959,  ..., -0.2441, -0.2446, -0.2444],\n",
       "          ...,\n",
       "          [ 0.0000,  0.0000,  0.0000,  ...,  0.0000,  0.0000,  0.0000],\n",
       "          [ 0.0000,  0.0000,  0.0000,  ...,  0.0000,  0.0000,  0.0000],\n",
       "          [ 0.0000,  0.0000,  0.0000,  ...,  0.0000,  0.0000,  0.0000]],\n",
       " \n",
       "         [[-0.2015, -0.2736, -0.2664,  ..., -0.3019, -0.3011, -0.3011],\n",
       "          [-0.1477, -0.1160, -0.2527,  ..., -0.3015, -0.3011, -0.3015],\n",
       "          [ 0.2902,  0.1095, -0.2062,  ..., -0.3014, -0.3016, -0.3013],\n",
       "          ...,\n",
       "          [ 0.0000,  0.0000,  0.0000,  ...,  0.0000,  0.0000,  0.0000],\n",
       "          [ 0.0000,  0.0000,  0.0000,  ...,  0.0000,  0.0000,  0.0000],\n",
       "          [ 0.0000,  0.0000,  0.0000,  ...,  0.0000,  0.0000,  0.0000]],\n",
       " \n",
       "         [[-0.1071, -0.2748, -0.2459,  ..., -0.3299, -0.3300, -0.3298],\n",
       "          [-0.1263,  0.0014, -0.2421,  ..., -0.3296, -0.3295, -0.3299],\n",
       "          [ 0.4246,  0.3843, -0.1363,  ..., -0.3289, -0.3290, -0.3300],\n",
       "          ...,\n",
       "          [ 0.0000,  0.0000,  0.0000,  ...,  0.0000,  0.0000,  0.0000],\n",
       "          [ 0.0000,  0.0000,  0.0000,  ...,  0.0000,  0.0000,  0.0000],\n",
       "          [ 0.0000,  0.0000,  0.0000,  ...,  0.0000,  0.0000,  0.0000]],\n",
       " \n",
       "         ...,\n",
       " \n",
       "         [[-0.1645, -0.2574, -0.2417,  ..., -0.2713, -0.2713, -0.2706],\n",
       "          [-0.2514, -0.0799, -0.1662,  ..., -0.2699, -0.2701, -0.2712],\n",
       "          [ 0.2559,  0.0612, -0.2022,  ..., -0.2709, -0.2708, -0.2709],\n",
       "          ...,\n",
       "          [ 0.0000,  0.0000,  0.0000,  ...,  0.0000,  0.0000,  0.0000],\n",
       "          [ 0.0000,  0.0000,  0.0000,  ...,  0.0000,  0.0000,  0.0000],\n",
       "          [ 0.0000,  0.0000,  0.0000,  ...,  0.0000,  0.0000,  0.0000]],\n",
       " \n",
       "         [[-0.2870, -0.2919, -0.2959,  ..., -0.2978, -0.2979, -0.2978],\n",
       "          [-0.2650, -0.2622, -0.2775,  ..., -0.2974, -0.2975, -0.2973],\n",
       "          [-0.1857, -0.2251, -0.2767,  ..., -0.2970, -0.2974, -0.2972],\n",
       "          ...,\n",
       "          [ 0.0000,  0.0000,  0.0000,  ...,  0.0000,  0.0000,  0.0000],\n",
       "          [ 0.0000,  0.0000,  0.0000,  ...,  0.0000,  0.0000,  0.0000],\n",
       "          [ 0.0000,  0.0000,  0.0000,  ...,  0.0000,  0.0000,  0.0000]],\n",
       " \n",
       "         [[-0.2331, -0.2352, -0.2411,  ..., -0.2518, -0.2520, -0.2521],\n",
       "          [-0.2087, -0.1973, -0.2378,  ..., -0.2515, -0.2518, -0.2517],\n",
       "          [-0.1159, -0.1756, -0.2353,  ..., -0.2516, -0.2514, -0.2516],\n",
       "          ...,\n",
       "          [ 0.0000,  0.0000,  0.0000,  ...,  0.0000,  0.0000,  0.0000],\n",
       "          [ 0.0000,  0.0000,  0.0000,  ...,  0.0000,  0.0000,  0.0000],\n",
       "          [ 0.0000,  0.0000,  0.0000,  ...,  0.0000,  0.0000,  0.0000]]]),\n",
       " [tensor([ 152937424,      32644,  152937424,  ..., -268888217,          4,\n",
       "          -268887217], dtype=torch.int32),\n",
       "  tensor([-378803008,      21857, 1248830928,  ...,  892348192,  976367674,\n",
       "           842675250], dtype=torch.int32),\n",
       "  tensor([  79236480,      21858, -797103328,  ..., 2112465616,      32642,\n",
       "          2112465648], dtype=torch.int32),\n",
       "  tensor([-11509994,         0, -11508995,  ...,  -2955207,         0,\n",
       "           -2954207], dtype=torch.int32),\n",
       "  tensor([-1064276150,           1, -1064275150,  ..., -1055017542,\n",
       "                    1, -1055016542], dtype=torch.int32),\n",
       "  tensor([  392777280,       21857, -1986936704,  ...,   942814766,\n",
       "            656419879,   876228658], dtype=torch.int32),\n",
       "  tensor([-1193536128,       21856,  -139763488,  ...,       32642,\n",
       "           2112466384,       32642], dtype=torch.int32),\n",
       "  tensor([  152937424,       32644,   152937424,  ..., -1883315915,\n",
       "                    4, -1883314915], dtype=torch.int32),\n",
       "  tensor([-378803008,      21857, 1248830928,  ..., -333502016,      21855,\n",
       "                 209], dtype=torch.int32),\n",
       "  tensor([47951503,        1, 47952503,  ..., 56557267,        1, 56558267],\n",
       "         dtype=torch.int32),\n",
       "  tensor([  79236480,      21858, -797103328,  ...,          0,  570736392,\n",
       "                   0], dtype=torch.int32),\n",
       "  tensor([152937488,     32644, 376390304,  ..., 976565050, 859452465,\n",
       "          825830962], dtype=torch.int32),\n",
       "  tensor([334310347,         0, 334311347,  ..., 341856407,         0,\n",
       "          341857406], dtype=torch.int32),\n",
       "  tensor([1135732674,          0, 1135733674,  ..., 1144343448,          0,\n",
       "          1144344448], dtype=torch.int32),\n",
       "  tensor([658061625, 841424940, 875772464,  ..., 152935664,     32644,\n",
       "          825899312], dtype=torch.int32),\n",
       "  tensor([-1288093072,       21857,   152937408,  ...,  1358598132,\n",
       "                    3,  1358599131], dtype=torch.int32),\n",
       "  tensor([-299592786,          1, -299591786,  ..., -804440497,          3,\n",
       "          -804439498], dtype=torch.int32),\n",
       "  tensor([ -378803008,       21857,  1248830928,  ..., -1226985777,\n",
       "                    1, -1226984778], dtype=torch.int32),\n",
       "  tensor([976695335, 893006901, 959658545,  ..., 875900974, 656419879,\n",
       "          893007664], dtype=torch.int32),\n",
       "  tensor([1434641889,          0, 1434642888,  ...,          0, 1444144415,\n",
       "                   0], dtype=torch.int32),\n",
       "  tensor([-2049168304,       32642, -2049168240,  ...,        -257,\n",
       "               -65794,   -16842753], dtype=torch.int32),\n",
       "  tensor([ -378803008,       21857,  1248830928,  ...,           1,\n",
       "          -1226976781,           1], dtype=torch.int32),\n",
       "  tensor([152937424,     32644, 152937424,  ...,     32642,      3681,\n",
       "                  0], dtype=torch.int32),\n",
       "  tensor([  183740147,           0,   183741146,  ..., -1206321119,\n",
       "                    1, -1206320119], dtype=torch.int32),\n",
       "  tensor([152937424,     32644, 152937424,  ...,         5,  88921329,\n",
       "                  5], dtype=torch.int32),\n",
       "  tensor([ 152937424,      32644,  152937424,  ..., 1849420016,      32642,\n",
       "          1849420048], dtype=torch.int32),\n",
       "  tensor([1020433982,          4, 1020434981,  ...,          4, 1024973781,\n",
       "                   4], dtype=torch.int32),\n",
       "  tensor([-805430015,          3, -805429015,  ..., -798027920,          3,\n",
       "          -798026921], dtype=torch.int32),\n",
       "  tensor([  79236480,      21858, -162634752,  ...,          4, -321894578,\n",
       "                   4], dtype=torch.int32),\n",
       "  tensor([  152937424,       32644,   152937424,  ...,           1,\n",
       "          -1367700031,           1], dtype=torch.int32),\n",
       "  tensor([-2049168656,       32642, -2049168720,  ...,          42,\n",
       "                    0,      -59393], dtype=torch.int32),\n",
       "  tensor([  690686013,           5,   690687013,  ...,       32642,\n",
       "          -1744959184,       32642], dtype=torch.int32)],\n",
       " tensor([[[0.0000, 0.0040, 0.0017,  ..., 0.0000, 0.0000, 0.0000],\n",
       "          [0.0000, 0.0040, 0.0017,  ..., 0.0000, 0.0000, 0.0000],\n",
       "          [0.0000, 0.0041, 0.0017,  ..., 0.0000, 0.0000, 0.0000],\n",
       "          ...,\n",
       "          [0.0000, 0.0000, 0.0000,  ..., 0.0000, 0.0000, 0.0000],\n",
       "          [0.0000, 0.0000, 0.0000,  ..., 0.0000, 0.0000, 0.0000],\n",
       "          [0.0000, 0.0000, 0.0000,  ..., 0.0000, 0.0000, 0.0000]],\n",
       " \n",
       "         [[0.0211, 0.0479, 0.0570,  ..., 0.0169, 0.0128, 0.0019],\n",
       "          [0.0212, 0.0479, 0.0572,  ..., 0.0168, 0.0128, 0.0019],\n",
       "          [0.0212, 0.0480, 0.0572,  ..., 0.0168, 0.0128, 0.0018],\n",
       "          ...,\n",
       "          [0.0000, 0.0000, 0.0000,  ..., 0.0000, 0.0000, 0.0000],\n",
       "          [0.0000, 0.0000, 0.0000,  ..., 0.0000, 0.0000, 0.0000],\n",
       "          [0.0000, 0.0000, 0.0000,  ..., 0.0000, 0.0000, 0.0000]],\n",
       " \n",
       "         [[0.0040, 0.0127, 0.0125,  ..., 0.0000, 0.0000, 0.0024],\n",
       "          [0.0040, 0.0127, 0.0125,  ..., 0.0000, 0.0000, 0.0024],\n",
       "          [0.0041, 0.0127, 0.0126,  ..., 0.0000, 0.0000, 0.0024],\n",
       "          ...,\n",
       "          [0.0000, 0.0000, 0.0000,  ..., 0.0000, 0.0000, 0.0000],\n",
       "          [0.0000, 0.0000, 0.0000,  ..., 0.0000, 0.0000, 0.0000],\n",
       "          [0.0000, 0.0000, 0.0000,  ..., 0.0000, 0.0000, 0.0000]],\n",
       " \n",
       "         ...,\n",
       " \n",
       "         [[0.0149, 0.0144, 0.0100,  ..., 0.0521, 0.0522, 0.0286],\n",
       "          [0.0149, 0.0144, 0.0100,  ..., 0.0524, 0.0524, 0.0287],\n",
       "          [0.0149, 0.0144, 0.0100,  ..., 0.0525, 0.0525, 0.0289],\n",
       "          ...,\n",
       "          [0.0000, 0.0000, 0.0000,  ..., 0.0000, 0.0000, 0.0000],\n",
       "          [0.0000, 0.0000, 0.0000,  ..., 0.0000, 0.0000, 0.0000],\n",
       "          [0.0000, 0.0000, 0.0000,  ..., 0.0000, 0.0000, 0.0000]],\n",
       " \n",
       "         [[0.0079, 0.0000, 0.0000,  ..., 0.0551, 0.0530, 0.0038],\n",
       "          [0.0079, 0.0000, 0.0000,  ..., 0.0551, 0.0529, 0.0038],\n",
       "          [0.0078, 0.0000, 0.0000,  ..., 0.0550, 0.0529, 0.0038],\n",
       "          ...,\n",
       "          [0.0000, 0.0000, 0.0000,  ..., 0.0000, 0.0000, 0.0000],\n",
       "          [0.0000, 0.0000, 0.0000,  ..., 0.0000, 0.0000, 0.0000],\n",
       "          [0.0000, 0.0000, 0.0000,  ..., 0.0000, 0.0000, 0.0000]],\n",
       " \n",
       "         [[0.0021, 0.0074, 0.0060,  ..., 0.0000, 0.0000, 0.0000],\n",
       "          [0.0023, 0.0074, 0.0060,  ..., 0.0000, 0.0000, 0.0000],\n",
       "          [0.0023, 0.0072, 0.0058,  ..., 0.0000, 0.0000, 0.0000],\n",
       "          ...,\n",
       "          [0.0000, 0.0000, 0.0000,  ..., 0.0000, 0.0000, 0.0000],\n",
       "          [0.0000, 0.0000, 0.0000,  ..., 0.0000, 0.0000, 0.0000],\n",
       "          [0.0000, 0.0000, 0.0000,  ..., 0.0000, 0.0000, 0.0000]]]),\n",
       " [tensor([539764531, 976629799, 825897266,  ..., 775041594, 657469747,\n",
       "          807870508], dtype=torch.int32),\n",
       "  tensor([-1213469456,       21856, -1736481968,  ...,   658060344,\n",
       "            841424940,   909457968], dtype=torch.int32),\n",
       "  tensor([-1490475824,       21856,     2759840,  ...,       32642,\n",
       "          -2055763312,       32642], dtype=torch.int32),\n",
       "  tensor([  404997792,       21857,   536155808,  ...,       32642,\n",
       "          -1760961488,       32642], dtype=torch.int32),\n",
       "  tensor([  729794912,       21856, -1326941760,  ...,   656419879,\n",
       "            893007664,   942684727], dtype=torch.int32),\n",
       "  tensor([892220979, 740767285, 808593184,  ..., 858666036, 740766004,\n",
       "          808593184], dtype=torch.int32),\n",
       "  tensor([976302394, 893006643, 825306681,  ..., 943077422, 656419879,\n",
       "          825898288], dtype=torch.int32),\n",
       "  tensor([825239387, 976499770, 825898549,  ..., 808922676, 539764533,\n",
       "          976302119], dtype=torch.int32),\n",
       "  tensor([        0,         0,         0,  ..., 656419879, 825898288,\n",
       "          842283569], dtype=torch.int32),\n",
       "  tensor([976826407, 809121331, 909130288,  ..., 959457056, 976630586,\n",
       "          876228913], dtype=torch.int32),\n",
       "  tensor([ -46498288,      21855,  217159696,  ...,      32642, -401046480,\n",
       "               32642], dtype=torch.int32),\n",
       "  tensor([-1759067024,       32642, -1759067760,  ...,       32642,\n",
       "           1953445392,       32642], dtype=torch.int32),\n",
       "  tensor([ -663628704,       21857, -1209492336,  ...,   808532531,\n",
       "            892352302,         161], dtype=torch.int32),\n",
       "  tensor([842349107, 842149934, 656419879,  ..., 658061111,       145,\n",
       "                  0], dtype=torch.int32),\n",
       "  tensor([-882672032,      21856, -836685984,  ...,  539764535,  976498727,\n",
       "           893006899], dtype=torch.int32),\n",
       "  tensor([908998709, 740766517, 925968160,  ..., 976695866, 858666800,\n",
       "          740767285], dtype=torch.int32),\n",
       "  tensor([875705134, 656419879, 809121840,  ..., 942679840, 976695354,\n",
       "          809120049], dtype=torch.int32),\n",
       "  tensor([ 305885392,      21857, -864449936,  ...,      32642, 2003601680,\n",
       "               32642], dtype=torch.int32),\n",
       "  tensor([ 976433466,  808333876,  740767282,  ...,      32642, -817567888,\n",
       "               32642], dtype=torch.int32),\n",
       "  tensor([976564794, 893006132, 943205944,  ..., 657862965, 807870508,\n",
       "                 81], dtype=torch.int32),\n",
       "  tensor([-1023582178,  -429801657, -1543879582,  ...,  1975469887,\n",
       "                   49,           0], dtype=torch.int32),\n",
       "  tensor([        0,         0,         0,  ..., 740766769, 875570976,\n",
       "          976368698], dtype=torch.int32),\n",
       "  tensor([1571853360,      21857, -430433072,  ...,  925902624,  976565562,\n",
       "           842675248], dtype=torch.int32),\n",
       "  tensor([   52517152,       21857, -1453205760,  ...,   976499514,\n",
       "            876229429,   892743218], dtype=torch.int32),\n",
       "  tensor([942679899, 976303162, 842674995,  ..., 893007412, 959917624,\n",
       "          539764537], dtype=torch.int32),\n",
       "  tensor([909258798, 656419879, 859452209,  ..., 893007154, 959852089,\n",
       "          539764535], dtype=torch.int32),\n",
       "  tensor([976236602, 893006900, 859188792,  ..., 858992176, 539764530,\n",
       "          976302631], dtype=torch.int32),\n",
       "  tensor([-1759068016,       32642, -1759067152,  ...,  2003601680,\n",
       "                32642,  2003601712], dtype=torch.int32),\n",
       "  tensor([539764529, 976433191, 809122097,  ..., 858793760, 976826682,\n",
       "          859452977], dtype=torch.int32),\n",
       "  tensor([976826407, 809121331, 909130288,  ..., 825898547, 859060785,\n",
       "          942945070], dtype=torch.int32),\n",
       "  tensor([775499834, 657666611, 824647724,  ..., 859451701, 959458869,\n",
       "          539764537], dtype=torch.int32),\n",
       "  tensor([      228,         0,         0,  ..., 740767027, 858924832,\n",
       "          976302906], dtype=torch.int32)]]"
      ]
     },
     "metadata": {},
     "output_type": "display_data"
    }
   ],
   "source": [
    "batch"
   ]
  },
  {
   "cell_type": "code",
   "execution_count": null,
   "metadata": {},
   "outputs": [
    {
     "data": {
      "text/plain": [
       "[tensor([[[-0.3279, -0.3343, -0.3444,  ..., -0.3470, -0.3471, -0.3471],\n",
       "          [-0.2441, -0.2600, -0.3105,  ..., -0.3469, -0.3467, -0.3468],\n",
       "          [-0.0503, -0.1614, -0.3080,  ..., -0.3467, -0.3464, -0.3468],\n",
       "          ...,\n",
       "          [ 0.0000,  0.0000,  0.0000,  ...,  0.0000,  0.0000,  0.0000],\n",
       "          [ 0.0000,  0.0000,  0.0000,  ...,  0.0000,  0.0000,  0.0000],\n",
       "          [ 0.0000,  0.0000,  0.0000,  ...,  0.0000,  0.0000,  0.0000]],\n",
       " \n",
       "         [[-0.2688, -0.3193, -0.3152,  ..., -0.3227, -0.3226, -0.3226],\n",
       "          [-0.0879, -0.1808, -0.2829,  ..., -0.3228, -0.3228, -0.3229],\n",
       "          [-0.2952, -0.0655, -0.2171,  ..., -0.3219, -0.3222, -0.3218],\n",
       "          ...,\n",
       "          [-0.3127, -0.0433, -0.1166,  ..., -0.3218, -0.3221, -0.3215],\n",
       "          [-0.2933, -0.3002, -0.3081,  ..., -0.3225, -0.3227, -0.3228],\n",
       "          [-0.3176, -0.3191, -0.3226,  ..., -0.3229, -0.3228, -0.3229]],\n",
       " \n",
       "         [[-0.2825, -0.2821, -0.2861,  ..., -0.3055, -0.3055, -0.3055],\n",
       "          [-0.1059, -0.1585, -0.2755,  ..., -0.3052, -0.3054, -0.3058],\n",
       "          [ 0.6326,  0.3204, -0.1806,  ..., -0.3053, -0.3054, -0.3054],\n",
       "          ...,\n",
       "          [ 0.0000,  0.0000,  0.0000,  ...,  0.0000,  0.0000,  0.0000],\n",
       "          [ 0.0000,  0.0000,  0.0000,  ...,  0.0000,  0.0000,  0.0000],\n",
       "          [ 0.0000,  0.0000,  0.0000,  ...,  0.0000,  0.0000,  0.0000]],\n",
       " \n",
       "         ...,\n",
       " \n",
       "         [[-0.3490, -0.3520, -0.3498,  ..., -0.3528, -0.3528, -0.3528],\n",
       "          [-0.3208, -0.3183, -0.3287,  ..., -0.3526, -0.3528, -0.3526],\n",
       "          [-0.3126, -0.2630, -0.3124,  ..., -0.3524, -0.3525, -0.3528],\n",
       "          ...,\n",
       "          [ 0.0000,  0.0000,  0.0000,  ...,  0.0000,  0.0000,  0.0000],\n",
       "          [ 0.0000,  0.0000,  0.0000,  ...,  0.0000,  0.0000,  0.0000],\n",
       "          [ 0.0000,  0.0000,  0.0000,  ...,  0.0000,  0.0000,  0.0000]],\n",
       " \n",
       "         [[-0.2973, -0.3289, -0.3095,  ..., -0.3317, -0.3322, -0.3321],\n",
       "          [-0.2946, -0.2732, -0.3067,  ..., -0.3315, -0.3318, -0.3322],\n",
       "          [-0.2812, -0.2929, -0.2967,  ..., -0.3315, -0.3318, -0.3321],\n",
       "          ...,\n",
       "          [ 0.0000,  0.0000,  0.0000,  ...,  0.0000,  0.0000,  0.0000],\n",
       "          [ 0.0000,  0.0000,  0.0000,  ...,  0.0000,  0.0000,  0.0000],\n",
       "          [ 0.0000,  0.0000,  0.0000,  ...,  0.0000,  0.0000,  0.0000]],\n",
       " \n",
       "         [[-0.2599, -0.2693, -0.2874,  ..., -0.2986, -0.2984, -0.2984],\n",
       "          [-0.1047, -0.2086, -0.2963,  ..., -0.2982, -0.2979, -0.2979],\n",
       "          [-0.0323, -0.0426, -0.2055,  ..., -0.2981, -0.2984, -0.2983],\n",
       "          ...,\n",
       "          [ 0.0000,  0.0000,  0.0000,  ...,  0.0000,  0.0000,  0.0000],\n",
       "          [ 0.0000,  0.0000,  0.0000,  ...,  0.0000,  0.0000,  0.0000],\n",
       "          [ 0.0000,  0.0000,  0.0000,  ...,  0.0000,  0.0000,  0.0000]]]),\n",
       " [tensor([-1759064112,       32642, -1759066256,  ...,  2112464848,\n",
       "                32642,  2112464880], dtype=torch.int32),\n",
       "  tensor([-569020941,          1, -569019940,  ...,      32642, -851017904,\n",
       "               32642], dtype=torch.int32),\n",
       "  tensor([ 1665201680,       21856, -1584402544,  ...,       32642,\n",
       "           1682897072,       32642], dtype=torch.int32),\n",
       "  tensor([  79236480,      21858, -797103328,  ...,      32642, -821349584,\n",
       "               32642], dtype=torch.int32),\n",
       "  tensor([ 152937424,      32644,  152937424,  ...,          0, -774133361,\n",
       "                   0], dtype=torch.int32),\n",
       "  tensor([-2084243713,           0, -2084242713,  ...,           0,\n",
       "          -2074523233,           0], dtype=torch.int32),\n",
       "  tensor([-1044794201,           1, -1044793202,  ...,           1,\n",
       "          -1035712550,           1], dtype=torch.int32),\n",
       "  tensor([  79236480,      21858, -162634752,  ..., -821349520,      32642,\n",
       "          -821349488], dtype=torch.int32),\n",
       "  tensor([-1288093072,       21857,   152937408,  ...,  1030433995,\n",
       "                    0,  1030434995], dtype=torch.int32),\n",
       "  tensor([-1081817258,           0, -1081816259,  ...,           3,\n",
       "           1215416624,           3], dtype=torch.int32),\n",
       "  tensor([-1209814197,           1, -1209813197,  ...,           1,\n",
       "          -1206303126,           1], dtype=torch.int32),\n",
       "  tensor([  79236480,      21858, -162634752,  ...,          3, 1337404624,\n",
       "                   3], dtype=torch.int32),\n",
       "  tensor([  79236480,      21858, -797103328,  ..., 2112463568,      32642,\n",
       "          2112463344], dtype=torch.int32),\n",
       "  tensor([152937456,     32644, 152937456,  ..., 207301190,         3,\n",
       "          207302189], dtype=torch.int32),\n",
       "  tensor([1005109763,          0, 1005110763,  ..., -383879568,      32642,\n",
       "          -383879600], dtype=torch.int32),\n",
       "  tensor([-1759066128,       32642, -1759068048,  ...,       32642,\n",
       "           1849421488,       32642], dtype=torch.int32),\n",
       "  tensor([1876843613,          1, 1876844613,  ..., -821846928,      32642,\n",
       "          -821847216], dtype=torch.int32),\n",
       "  tensor([1214149301,          0, 1214150301,  ...,          4, -359286719,\n",
       "                   4], dtype=torch.int32),\n",
       "  tensor([-737291952,      21857, 1248830928,  ...,          2,  564372835,\n",
       "                   2], dtype=torch.int32),\n",
       "  tensor([-1918655760,       32642, -1918655728,  ...,           0,\n",
       "                    0,           0], dtype=torch.int32),\n",
       "  tensor([ 378084992,      21857, 1753912416,  ...,  808660534,  539764532,\n",
       "           976629799], dtype=torch.int32),\n",
       "  tensor([850187706,         5, 850188705,  ...,         5, 859413321,\n",
       "                  5], dtype=torch.int32),\n",
       "  tensor([ 152937424,      32644,  152937424,  ..., -874231951,          0,\n",
       "          -874230951], dtype=torch.int32),\n",
       "  tensor([ 152937424,      32644,  152937424,  ...,          3, 1358704103,\n",
       "                   3], dtype=torch.int32),\n",
       "  tensor([   79236480,       21858,  -797103328,  ...,           4,\n",
       "          -1064231262,           4], dtype=torch.int32),\n",
       "  tensor([2074959645,          0, 2075000644,  ...,          1,  748884965,\n",
       "                   1], dtype=torch.int32),\n",
       "  tensor([  79236480,      21858, -162634752,  ...,      32642, 2112463888,\n",
       "               32642], dtype=torch.int32),\n",
       "  tensor([ 376667056,      21858,  376667056,  ...,          4, 1114367722,\n",
       "                   4], dtype=torch.int32),\n",
       "  tensor([959329585, 740767544, 808593184,  ..., 908997684, 740768050,\n",
       "          808593184], dtype=torch.int32),\n",
       "  tensor([923668267,         2, 923669266,  ..., 931625213,         2,\n",
       "          931666212], dtype=torch.int32),\n",
       "  tensor([   79236480,       21858,  -797103328,  ..., -1759064688,\n",
       "                32642, -1759064656], dtype=torch.int32),\n",
       "  tensor([  152937408,       32644,  -900560528,  ..., -2041417371,\n",
       "                    4, -2041416372], dtype=torch.int32)],\n",
       " tensor([[[2.8301e-03, 9.5332e-03, 9.6798e-03,  ..., 0.0000e+00,\n",
       "           0.0000e+00, 1.4671e-04],\n",
       "          [2.8227e-03, 9.4926e-03, 9.6353e-03,  ..., 0.0000e+00,\n",
       "           0.0000e+00, 1.4837e-04],\n",
       "          [2.8247e-03, 9.4586e-03, 9.5986e-03,  ..., 0.0000e+00,\n",
       "           0.0000e+00, 1.5664e-04],\n",
       "          ...,\n",
       "          [0.0000e+00, 0.0000e+00, 0.0000e+00,  ..., 0.0000e+00,\n",
       "           0.0000e+00, 0.0000e+00],\n",
       "          [0.0000e+00, 0.0000e+00, 0.0000e+00,  ..., 0.0000e+00,\n",
       "           0.0000e+00, 0.0000e+00],\n",
       "          [0.0000e+00, 0.0000e+00, 0.0000e+00,  ..., 0.0000e+00,\n",
       "           0.0000e+00, 0.0000e+00]],\n",
       " \n",
       "         [[0.0000e+00, 0.0000e+00, 0.0000e+00,  ..., 0.0000e+00,\n",
       "           0.0000e+00, 0.0000e+00],\n",
       "          [0.0000e+00, 0.0000e+00, 0.0000e+00,  ..., 0.0000e+00,\n",
       "           0.0000e+00, 0.0000e+00],\n",
       "          [0.0000e+00, 0.0000e+00, 0.0000e+00,  ..., 0.0000e+00,\n",
       "           0.0000e+00, 0.0000e+00],\n",
       "          ...,\n",
       "          [8.0895e-02, 1.9449e-02, 0.0000e+00,  ..., 1.8823e-01,\n",
       "           1.8886e-01, 1.0534e-02],\n",
       "          [8.0488e-02, 1.9321e-02, 0.0000e+00,  ..., 1.8731e-01,\n",
       "           1.8769e-01, 1.0510e-02],\n",
       "          [8.0103e-02, 1.9159e-02, 0.0000e+00,  ..., 1.8665e-01,\n",
       "           1.8696e-01, 1.0496e-02]],\n",
       " \n",
       "         [[1.4244e-02, 3.4834e-02, 3.1105e-02,  ..., 1.1565e-02,\n",
       "           1.0762e-02, 8.3066e-03],\n",
       "          [1.3983e-02, 3.4231e-02, 3.0473e-02,  ..., 1.1241e-02,\n",
       "           1.0451e-02, 8.1292e-03],\n",
       "          [1.3731e-02, 3.3654e-02, 2.9887e-02,  ..., 1.0927e-02,\n",
       "           1.0152e-02, 7.9719e-03],\n",
       "          ...,\n",
       "          [0.0000e+00, 0.0000e+00, 0.0000e+00,  ..., 0.0000e+00,\n",
       "           0.0000e+00, 0.0000e+00],\n",
       "          [0.0000e+00, 0.0000e+00, 0.0000e+00,  ..., 0.0000e+00,\n",
       "           0.0000e+00, 0.0000e+00],\n",
       "          [0.0000e+00, 0.0000e+00, 0.0000e+00,  ..., 0.0000e+00,\n",
       "           0.0000e+00, 0.0000e+00]],\n",
       " \n",
       "         ...,\n",
       " \n",
       "         [[2.3385e-03, 5.1278e-03, 4.6250e-03,  ..., 0.0000e+00,\n",
       "           0.0000e+00, 1.6608e-03],\n",
       "          [2.3233e-03, 5.1321e-03, 4.6346e-03,  ..., 0.0000e+00,\n",
       "           0.0000e+00, 1.6540e-03],\n",
       "          [2.3120e-03, 5.1358e-03, 4.6428e-03,  ..., 0.0000e+00,\n",
       "           0.0000e+00, 1.6434e-03],\n",
       "          ...,\n",
       "          [0.0000e+00, 0.0000e+00, 0.0000e+00,  ..., 0.0000e+00,\n",
       "           0.0000e+00, 0.0000e+00],\n",
       "          [0.0000e+00, 0.0000e+00, 0.0000e+00,  ..., 0.0000e+00,\n",
       "           0.0000e+00, 0.0000e+00],\n",
       "          [0.0000e+00, 0.0000e+00, 0.0000e+00,  ..., 0.0000e+00,\n",
       "           0.0000e+00, 0.0000e+00]],\n",
       " \n",
       "         [[3.5745e-03, 7.2557e-03, 6.8302e-03,  ..., 0.0000e+00,\n",
       "           0.0000e+00, 2.7942e-03],\n",
       "          [3.5586e-03, 7.2354e-03, 6.8150e-03,  ..., 0.0000e+00,\n",
       "           0.0000e+00, 2.7731e-03],\n",
       "          [3.5362e-03, 7.2216e-03, 6.8069e-03,  ..., 0.0000e+00,\n",
       "           0.0000e+00, 2.7599e-03],\n",
       "          ...,\n",
       "          [0.0000e+00, 0.0000e+00, 0.0000e+00,  ..., 0.0000e+00,\n",
       "           0.0000e+00, 0.0000e+00],\n",
       "          [0.0000e+00, 0.0000e+00, 0.0000e+00,  ..., 0.0000e+00,\n",
       "           0.0000e+00, 0.0000e+00],\n",
       "          [0.0000e+00, 0.0000e+00, 0.0000e+00,  ..., 0.0000e+00,\n",
       "           0.0000e+00, 0.0000e+00]],\n",
       " \n",
       "         [[0.0000e+00, 0.0000e+00, 0.0000e+00,  ..., 1.7530e-03,\n",
       "           1.5058e-03, 0.0000e+00],\n",
       "          [0.0000e+00, 0.0000e+00, 0.0000e+00,  ..., 1.6481e-03,\n",
       "           1.4167e-03, 0.0000e+00],\n",
       "          [0.0000e+00, 0.0000e+00, 0.0000e+00,  ..., 1.5426e-03,\n",
       "           1.3262e-03, 0.0000e+00],\n",
       "          ...,\n",
       "          [0.0000e+00, 0.0000e+00, 0.0000e+00,  ..., 0.0000e+00,\n",
       "           0.0000e+00, 0.0000e+00],\n",
       "          [0.0000e+00, 0.0000e+00, 0.0000e+00,  ..., 0.0000e+00,\n",
       "           0.0000e+00, 0.0000e+00],\n",
       "          [0.0000e+00, 0.0000e+00, 0.0000e+00,  ..., 0.0000e+00,\n",
       "           0.0000e+00, 0.0000e+00]]]),\n",
       " [tensor([          0,           0,           0,  ...,       32642,\n",
       "          -2055763856,       32642], dtype=torch.int32),\n",
       "  tensor([-1759066352,       32642, -1759068048,  ...,       32642,\n",
       "           2127231152,       32642], dtype=torch.int32),\n",
       "  tensor([-2005339712,       21856,   635974944,  ...,       32642,\n",
       "           2003601264,       32642], dtype=torch.int32),\n",
       "  tensor([825897776, 942815795, 909193518,  ..., 976433210, 859452210,\n",
       "          876097076], dtype=torch.int32),\n",
       "  tensor([-1961533536,       21857,  1082468064,  ...,   656419879,\n",
       "            859452210,   825309745], dtype=torch.int32),\n",
       "  tensor([-378803008,      21857, 1248830928,  ...,      32644,  152935776,\n",
       "               32644], dtype=torch.int32),\n",
       "  tensor([976500026, 859451701, 959655480,  ..., 539764529, 976695335,\n",
       "          809121077], dtype=torch.int32),\n",
       "  tensor([-1913012976,       32642, -1913012944,  ...,       32642,\n",
       "          -1913743120,       32642], dtype=torch.int32),\n",
       "  tensor([1359447328,      21856,   77576544,  ...,  809121586,  892546608,\n",
       "           539764537], dtype=torch.int32),\n",
       "  tensor([858665008, 740766773, 925968160,  ..., 539764530, 976695591,\n",
       "          859451698], dtype=torch.int32),\n",
       "  tensor([-122703424,      21856, 1955550000,  ...,  825571889,  775500090,\n",
       "           657863219], dtype=torch.int32),\n",
       "  tensor([858793819, 976826682, 893007408,  ..., 775107386, 657668145,\n",
       "          807870508], dtype=torch.int32),\n",
       "  tensor([ 460866944,      21856, -936873392,  ...,  809121076,  859060789,\n",
       "           842479406], dtype=torch.int32),\n",
       "  tensor([ 250225664,      21856, -883956016,  ...,  809121589,  909392440,\n",
       "           909457198], dtype=torch.int32),\n",
       "  tensor([976631098, 959328561, 740768056,  ..., 841424940, 859060784,\n",
       "          976236858], dtype=torch.int32),\n",
       "  tensor([926429230, 656419879, 893007408,  ..., 942815796, 775106618,\n",
       "          657602359], dtype=torch.int32),\n",
       "  tensor([718290042,         1, 718291042,  ..., 726045039,         1,\n",
       "          726046039], dtype=torch.int32),\n",
       "  tensor([942946867, 825372718, 656419879,  ..., 808922673, 539764528,\n",
       "          976433447], dtype=torch.int32),\n",
       "  tensor([-1213469456,       21856, -1736481968,  ...,  2003601808,\n",
       "                32642,  2003601840], dtype=torch.int32),\n",
       "  tensor([-1759067632,       32642, -1759068016,  ...,  2003601072,\n",
       "                32642,  2003601104], dtype=torch.int32),\n",
       "  tensor([825370459, 976826426, 809121073,  ..., 959461937, 976433722,\n",
       "          892219440], dtype=torch.int32),\n",
       "  tensor([859321902, 656419879, 825898545,  ..., 976367930, 893006384,\n",
       "          858992176], dtype=torch.int32),\n",
       "  tensor([976760871, 859452469, 858798648,  ..., 656419879, 893007920,\n",
       "          959724084], dtype=torch.int32),\n",
       "  tensor([656419879, 842676528, 909392432,  ..., 943012400, 775106874,\n",
       "          657799476], dtype=torch.int32),\n",
       "  tensor([ -46498288,      21855,  217159696,  ..., -821348528,      32642,\n",
       "          -821348560], dtype=torch.int32),\n",
       "  tensor([775304506, 657929014, 841424940,  ..., 976302631, 893005872,\n",
       "          926169654], dtype=torch.int32),\n",
       "  tensor([775370042, 657470001, 807870508,  ..., 859060785, 775041850,\n",
       "          657602104], dtype=torch.int32),\n",
       "  tensor([976303418, 893007153, 892743221,  ..., 775041082, 657995059,\n",
       "          824647724], dtype=torch.int32),\n",
       "  tensor([-882672032,      21856, -836685984,  ...,  876228658,  825699889,\n",
       "           539764536], dtype=torch.int32),\n",
       "  tensor([-46498288,     21855, 217159696,  ..., 976236858, 808335412,\n",
       "          740766773], dtype=torch.int32),\n",
       "  tensor([976696378, 876228916, 909520432,  ..., 842016544, 976696378,\n",
       "          876228917], dtype=torch.int32),\n",
       "  tensor([976302906, 876229428, 942747189,  ..., 825440823, 976500026,\n",
       "          942552627], dtype=torch.int32)]]"
      ]
     },
     "metadata": {},
     "output_type": "display_data"
    }
   ],
   "source": [
    "for batch in dm.val_dataloader():\n",
    "    break\n",
    "\n",
    "batch"
   ]
  },
  {
   "cell_type": "code",
   "execution_count": null,
   "metadata": {},
   "outputs": [
    {
     "data": {
      "text/plain": [
       "[tensor([[[-0.1261, -0.1603, -0.2297,  ..., -0.2866, -0.2866, -0.2863],\n",
       "          [ 0.1224,  0.0378, -0.2400,  ..., -0.2858, -0.2860, -0.2855],\n",
       "          [ 1.1610,  0.7769, -0.0504,  ..., -0.2857, -0.2866, -0.2838],\n",
       "          ...,\n",
       "          [ 0.0000,  0.0000,  0.0000,  ...,  0.0000,  0.0000,  0.0000],\n",
       "          [ 0.0000,  0.0000,  0.0000,  ...,  0.0000,  0.0000,  0.0000],\n",
       "          [ 0.0000,  0.0000,  0.0000,  ...,  0.0000,  0.0000,  0.0000]],\n",
       " \n",
       "         [[-0.2796, -0.2805, -0.2827,  ..., -0.2893, -0.2894, -0.2893],\n",
       "          [-0.2734, -0.2636, -0.2798,  ..., -0.2891, -0.2893, -0.2893],\n",
       "          [-0.1937, -0.2255, -0.2797,  ..., -0.2890, -0.2893, -0.2890],\n",
       "          ...,\n",
       "          [ 0.0000,  0.0000,  0.0000,  ...,  0.0000,  0.0000,  0.0000],\n",
       "          [ 0.0000,  0.0000,  0.0000,  ...,  0.0000,  0.0000,  0.0000],\n",
       "          [ 0.0000,  0.0000,  0.0000,  ...,  0.0000,  0.0000,  0.0000]],\n",
       " \n",
       "         [[-0.2450, -0.2500, -0.2595,  ..., -0.2607, -0.2609, -0.2608],\n",
       "          [-0.0114, -0.1098, -0.2405,  ..., -0.2605, -0.2605, -0.2608],\n",
       "          [ 0.3368,  0.1667, -0.1666,  ..., -0.2605, -0.2600, -0.2608],\n",
       "          ...,\n",
       "          [ 0.0000,  0.0000,  0.0000,  ...,  0.0000,  0.0000,  0.0000],\n",
       "          [ 0.0000,  0.0000,  0.0000,  ...,  0.0000,  0.0000,  0.0000],\n",
       "          [ 0.0000,  0.0000,  0.0000,  ...,  0.0000,  0.0000,  0.0000]],\n",
       " \n",
       "         ...,\n",
       " \n",
       "         [[-0.2685, -0.2967, -0.2920,  ..., -0.3050, -0.3054, -0.3052],\n",
       "          [-0.3041, -0.2730, -0.3002,  ..., -0.3051, -0.3049, -0.3050],\n",
       "          [-0.1412, -0.1896, -0.2681,  ..., -0.3047, -0.3044, -0.3052],\n",
       "          ...,\n",
       "          [ 0.0000,  0.0000,  0.0000,  ...,  0.0000,  0.0000,  0.0000],\n",
       "          [ 0.0000,  0.0000,  0.0000,  ...,  0.0000,  0.0000,  0.0000],\n",
       "          [ 0.0000,  0.0000,  0.0000,  ...,  0.0000,  0.0000,  0.0000]],\n",
       " \n",
       "         [[-0.0934, -0.2669, -0.1773,  ..., -0.2695, -0.2690, -0.2695],\n",
       "          [ 0.0913,  0.2139, -0.0022,  ..., -0.2681, -0.2682, -0.2684],\n",
       "          [ 0.1269,  0.1644, -0.1225,  ..., -0.2678, -0.2685, -0.2664],\n",
       "          ...,\n",
       "          [ 0.0000,  0.0000,  0.0000,  ...,  0.0000,  0.0000,  0.0000],\n",
       "          [ 0.0000,  0.0000,  0.0000,  ...,  0.0000,  0.0000,  0.0000],\n",
       "          [ 0.0000,  0.0000,  0.0000,  ...,  0.0000,  0.0000,  0.0000]],\n",
       " \n",
       "         [[-0.2655, -0.2941, -0.2825,  ..., -0.3006, -0.3003, -0.3005],\n",
       "          [-0.1497, -0.2152, -0.2627,  ..., -0.2994, -0.2992, -0.2995],\n",
       "          [-0.2842, -0.1448, -0.2663,  ..., -0.2996, -0.2996, -0.3002],\n",
       "          ...,\n",
       "          [ 0.0000,  0.0000,  0.0000,  ...,  0.0000,  0.0000,  0.0000],\n",
       "          [ 0.0000,  0.0000,  0.0000,  ...,  0.0000,  0.0000,  0.0000],\n",
       "          [ 0.0000,  0.0000,  0.0000,  ...,  0.0000,  0.0000,  0.0000]]]),\n",
       " tensor([3460, 4164, 5589, 5086, 6260, 3583, 4902, 9295, 4884, 4649, 3739, 5264,\n",
       "         6862, 6175, 4208, 6216, 5223, 3616, 6154, 4055, 6534, 4496, 4935, 4055,\n",
       "         7442, 4043, 4189, 5099, 5448, 4071, 4751, 4414]),\n",
       " tensor([[[0.0000, 0.0000, 0.0000,  ..., 0.0042, 0.0037, 0.0000],\n",
       "          [0.0000, 0.0000, 0.0000,  ..., 0.0041, 0.0036, 0.0000],\n",
       "          [0.0000, 0.0000, 0.0000,  ..., 0.0040, 0.0035, 0.0000],\n",
       "          ...,\n",
       "          [0.0000, 0.0000, 0.0000,  ..., 0.0000, 0.0000, 0.0000],\n",
       "          [0.0000, 0.0000, 0.0000,  ..., 0.0000, 0.0000, 0.0000],\n",
       "          [0.0000, 0.0000, 0.0000,  ..., 0.0000, 0.0000, 0.0000]],\n",
       " \n",
       "         [[0.0027, 0.0019, 0.0016,  ..., 0.0030, 0.0025, 0.0000],\n",
       "          [0.0027, 0.0020, 0.0017,  ..., 0.0033, 0.0027, 0.0000],\n",
       "          [0.0027, 0.0021, 0.0019,  ..., 0.0038, 0.0031, 0.0000],\n",
       "          ...,\n",
       "          [0.0000, 0.0000, 0.0000,  ..., 0.0000, 0.0000, 0.0000],\n",
       "          [0.0000, 0.0000, 0.0000,  ..., 0.0000, 0.0000, 0.0000],\n",
       "          [0.0000, 0.0000, 0.0000,  ..., 0.0000, 0.0000, 0.0000]],\n",
       " \n",
       "         [[0.0000, 0.0093, 0.0080,  ..., 0.0000, 0.0000, 0.0000],\n",
       "          [0.0000, 0.0093, 0.0079,  ..., 0.0000, 0.0000, 0.0000],\n",
       "          [0.0000, 0.0093, 0.0079,  ..., 0.0000, 0.0000, 0.0000],\n",
       "          ...,\n",
       "          [0.0000, 0.0000, 0.0000,  ..., 0.0000, 0.0000, 0.0000],\n",
       "          [0.0000, 0.0000, 0.0000,  ..., 0.0000, 0.0000, 0.0000],\n",
       "          [0.0000, 0.0000, 0.0000,  ..., 0.0000, 0.0000, 0.0000]],\n",
       " \n",
       "         ...,\n",
       " \n",
       "         [[0.0006, 0.0000, 0.0000,  ..., 0.0253, 0.0262, 0.0041],\n",
       "          [0.0005, 0.0000, 0.0000,  ..., 0.0250, 0.0259, 0.0040],\n",
       "          [0.0005, 0.0000, 0.0000,  ..., 0.0248, 0.0257, 0.0040],\n",
       "          ...,\n",
       "          [0.0000, 0.0000, 0.0000,  ..., 0.0000, 0.0000, 0.0000],\n",
       "          [0.0000, 0.0000, 0.0000,  ..., 0.0000, 0.0000, 0.0000],\n",
       "          [0.0000, 0.0000, 0.0000,  ..., 0.0000, 0.0000, 0.0000]],\n",
       " \n",
       "         [[0.0033, 0.0087, 0.0126,  ..., 0.0177, 0.0160, 0.0054],\n",
       "          [0.0033, 0.0086, 0.0124,  ..., 0.0174, 0.0157, 0.0054],\n",
       "          [0.0033, 0.0086, 0.0122,  ..., 0.0171, 0.0155, 0.0055],\n",
       "          ...,\n",
       "          [0.0000, 0.0000, 0.0000,  ..., 0.0000, 0.0000, 0.0000],\n",
       "          [0.0000, 0.0000, 0.0000,  ..., 0.0000, 0.0000, 0.0000],\n",
       "          [0.0000, 0.0000, 0.0000,  ..., 0.0000, 0.0000, 0.0000]],\n",
       " \n",
       "         [[0.0009, 0.0000, 0.0000,  ..., 0.0008, 0.0003, 0.0004],\n",
       "          [0.0009, 0.0000, 0.0000,  ..., 0.0007, 0.0002, 0.0003],\n",
       "          [0.0009, 0.0000, 0.0000,  ..., 0.0007, 0.0002, 0.0003],\n",
       "          ...,\n",
       "          [0.0000, 0.0000, 0.0000,  ..., 0.0000, 0.0000, 0.0000],\n",
       "          [0.0000, 0.0000, 0.0000,  ..., 0.0000, 0.0000, 0.0000],\n",
       "          [0.0000, 0.0000, 0.0000,  ..., 0.0000, 0.0000, 0.0000]]]),\n",
       " tensor([2081, 2503, 3357, 3055, 3761, 2156, 2947, 5581, 2935, 2794, 2248, 3163,\n",
       "         4121, 3709, 2530, 3734, 3139, 2174, 3696, 2438, 3924, 2702, 2966, 2437,\n",
       "         4470, 2431, 2518, 3064, 3273, 2448, 2855, 2653]),\n",
       " tensor([ 666,  216, 1928,   58,  579, 2586,  353, 1389, 1989,  323, 2522, 1472,\n",
       "          793, 1625, 1065,  543, 1264, 2452, 2363, 1644, 2307, 1813, 1963, 2216,\n",
       "         2118, 1697, 1859,  865, 2343, 2529, 1464, 1651]),\n",
       " tensor([[  165921728,   165922728,   165923728,  ...,           0,\n",
       "                    0,           0],\n",
       "         [19260215894, 19260216894, 19260217893,  ...,           0,\n",
       "                    0,           0],\n",
       "         [ 7002534604,  7002535603,  7002536603,  ...,           0,\n",
       "                    0,           0],\n",
       "         ...,\n",
       "         [ 5332754349,  5332755349,  5332756349,  ...,           0,\n",
       "                    0,           0],\n",
       "         [ 3253703493,  3253704492,  3253705492,  ...,           0,\n",
       "                    0,           0],\n",
       "         [ 9505242471,  9505243471,  9505244470,  ...,           0,\n",
       "                    0,           0]]),\n",
       " ['666_20220810_bbs5_0',\n",
       "  '216_20220728_LeeYooHonew5_0',\n",
       "  '1928_20220920_AnnSeoHue147_0',\n",
       "  '58_20220727_hynew5_0',\n",
       "  '579_20220809_hynew183_0',\n",
       "  '2586_20221006_jiha5_0',\n",
       "  '353_20220808_mjki147_2',\n",
       "  '1389_20220902_kye147_2',\n",
       "  '1989_20220921_ohongsuck18_0',\n",
       "  '323_20220808_mjki11_3',\n",
       "  '2522_20221006_jiha183_0',\n",
       "  '1472_20220913_SeoHeeJoo18_0',\n",
       "  '793_20220812_bbs147_0',\n",
       "  '1625_20220914_SeoHeeJoo183_0',\n",
       "  '1065_20220829_kmg11_0',\n",
       "  '543_20220809_hynew147_1',\n",
       "  '1264_20220831_kye11_0',\n",
       "  '2452_20221006_jiha11_0',\n",
       "  '2363_20220929_Ohongsuck183_0',\n",
       "  '1644_20220915_Suljuhwan11_6',\n",
       "  '2307_20220927_lcy147_0',\n",
       "  '1813_20220919_AanSeoHue11_0',\n",
       "  '1963_20220920_AnnSeoHue183_0',\n",
       "  '2216_20220926_lcy5_0',\n",
       "  '2118_20220922_ohongsuck147_0',\n",
       "  '1697_20220915_Suljuhwan5_0',\n",
       "  '1859_20220919_AanSeoHue5_0',\n",
       "  '865_20220823_LeeYuJin11_0',\n",
       "  '2343_20220927_lcy183_0',\n",
       "  '2529_20221006_jiha18_0',\n",
       "  '1464_20220913_SeoHeeJoo11_0',\n",
       "  '1651_20220915_Suljuhwan18_2']]"
      ]
     },
     "metadata": {},
     "output_type": "display_data"
    }
   ],
   "source": [
    "for batch in dm.test_dataloader():\n",
    "    break\n",
    "\n",
    "batch"
   ]
  },
  {
   "cell_type": "code",
   "execution_count": null,
   "metadata": {},
   "outputs": [],
   "source": [
    "spec, spec_len, blendshape, blendshape_len, idx, timecode, f_names = batch"
   ]
  },
  {
   "cell_type": "code",
   "execution_count": null,
   "metadata": {},
   "outputs": [
    {
     "data": {
      "text/plain": [
       "[torch.Tensor,\n",
       " torch.Tensor,\n",
       " torch.Tensor,\n",
       " torch.Tensor,\n",
       " torch.Tensor,\n",
       " torch.Tensor,\n",
       " list]"
      ]
     },
     "metadata": {},
     "output_type": "display_data"
    }
   ],
   "source": [
    "list(map(type, batch))"
   ]
  },
  {
   "cell_type": "code",
   "execution_count": null,
   "metadata": {},
   "outputs": [
    {
     "data": {
      "text/plain": [
       "tensor([3460, 4164, 5589, 5086, 6260, 3583, 4902, 9295, 4884, 4649, 3739, 5264,\n",
       "        6862, 6175, 4208, 6216, 5223, 3616, 6154, 4055, 6534, 4496, 4935, 4055,\n",
       "        7442, 4043, 4189, 5099, 5448, 4071, 4751, 4414])"
      ]
     },
     "metadata": {},
     "output_type": "display_data"
    }
   ],
   "source": [
    "spec_len"
   ]
  },
  {
   "cell_type": "code",
   "execution_count": null,
   "metadata": {},
   "outputs": [],
   "source": []
  },
  {
   "cell_type": "code",
   "execution_count": null,
   "metadata": {},
   "outputs": [],
   "source": []
  }
 ],
 "metadata": {
  "kernelspec": {
   "display_name": "Python 3.8.8 ('torch18')",
   "language": "python",
   "name": "python3"
  },
  "language_info": {
   "codemirror_mode": {
    "name": "ipython",
    "version": 3
   },
   "file_extension": ".py",
   "mimetype": "text/x-python",
   "name": "python",
   "nbconvert_exporter": "python",
   "pygments_lexer": "ipython3",
   "version": "3.8.8"
  },
  "orig_nbformat": 4,
  "vscode": {
   "interpreter": {
    "hash": "98f3181f4900a3173dff2251935f87d1f345563f3a07cb125f858d750ad52894"
   }
  }
 },
 "nbformat": 4,
 "nbformat_minor": 2
}
