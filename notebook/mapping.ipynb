{
 "cells": [
  {
   "cell_type": "code",
   "execution_count": 1,
   "metadata": {},
   "outputs": [],
   "source": [
    "import os\n",
    "from glob import glob\n",
    "import shutil\n",
    "import re"
   ]
  },
  {
   "cell_type": "code",
   "execution_count": 2,
   "metadata": {},
   "outputs": [
    {
     "data": {
      "text/plain": [
       "'/root/mediazen/speech2anim/essentials/essentials_LeeYooHonew/175_LeeYooHonew177_0_mediazen.wav'"
      ]
     },
     "execution_count": 2,
     "metadata": {},
     "output_type": "execute_result"
    }
   ],
   "source": [
    "wavs = glob('/root/mediazen/speech2anim/essentials/*/*.wav')\n",
    "wavs[0]"
   ]
  },
  {
   "cell_type": "code",
   "execution_count": 25,
   "metadata": {},
   "outputs": [],
   "source": [
    "hynew_idx = []\n",
    "mjki_idx = []\n",
    "lhy_idx = []\n",
    "for wav_path in wavs:\n",
    "    wav_dir, wav_file = os.path.split(wav_path)\n",
    "    idx = int(wav_file.split('_')[0])\n",
    "    person = re.sub(r'[0-9]+', '', wav_file.split('_')[1])\n",
    "    \n",
    "    if person == 'hynew':\n",
    "        hynew_idx.append(idx)\n",
    "    elif person == 'mjki':\n",
    "        mjki_idx.append(idx)\n",
    "        idx += 199\n",
    "    elif person == 'LeeYooHonew':\n",
    "        lhy_idx.append(idx)\n",
    "        idx += 399\n",
    "\n",
    "    new_wav_file = '_'.join([str(idx)] + wav_file.split('_')[1:])\n",
    "    new_wav_dir = '/root/mediazen/speech2anim/modified_essentials'\n",
    "\n",
    "    new_wav_path = os.path.join(new_wav_dir, new_wav_file)\n",
    "    \n",
    "    shutil.copy(wav_path, new_wav_path)"
   ]
  },
  {
   "cell_type": "code",
   "execution_count": 21,
   "metadata": {},
   "outputs": [
    {
     "data": {
      "text/plain": [
       "(199, 200, 199)"
      ]
     },
     "execution_count": 21,
     "metadata": {},
     "output_type": "execute_result"
    }
   ],
   "source": [
    "len(hynew_idx), len(mjki_idx), len(lhy_idx)"
   ]
  },
  {
   "cell_type": "code",
   "execution_count": null,
   "metadata": {},
   "outputs": [],
   "source": []
  }
 ],
 "metadata": {
  "kernelspec": {
   "display_name": "Python 3.8.8 ('torch18')",
   "language": "python",
   "name": "python3"
  },
  "language_info": {
   "codemirror_mode": {
    "name": "ipython",
    "version": 3
   },
   "file_extension": ".py",
   "mimetype": "text/x-python",
   "name": "python",
   "nbconvert_exporter": "python",
   "pygments_lexer": "ipython3",
   "version": "3.8.8"
  },
  "orig_nbformat": 4,
  "vscode": {
   "interpreter": {
    "hash": "98f3181f4900a3173dff2251935f87d1f345563f3a07cb125f858d750ad52894"
   }
  }
 },
 "nbformat": 4,
 "nbformat_minor": 2
}
