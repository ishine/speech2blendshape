{
 "cells": [
  {
   "cell_type": "code",
   "execution_count": 19,
   "metadata": {},
   "outputs": [],
   "source": [
    "import os\n",
    "import os.path as osp\n",
    "from glob import glob\n",
    "from tqdm.auto import tqdm\n",
    "import torch\n",
    "import pandas as pd\n",
    "import numpy as np\n",
    "import matplotlib.pyplot as plt\n",
    "import librosa\n",
    "\n",
    "import sys\n",
    "sys.path.append('/root/mediazen/speech2anim/')\n",
    "\n",
    "from utils import plot_spectrogram"
   ]
  },
  {
   "cell_type": "code",
   "execution_count": 4,
   "metadata": {},
   "outputs": [
    {
     "data": {
      "text/plain": [
       "('/root/mediazen/speech2anim/merged_essentials/audio_ggongggong.pt',\n",
       " '/root/mediazen/speech2anim/merged_essentials/shape_ggongggong.pt')"
      ]
     },
     "execution_count": 4,
     "metadata": {},
     "output_type": "execute_result"
    }
   ],
   "source": [
    "data_dir = '/root/mediazen/speech2anim/merged_essentials'\n",
    "essentials_dir = [d.path for d in os.scandir(data_dir)]\n",
    "audio_path, shape_path = essentials_dir\n",
    "audio_path, shape_path"
   ]
  },
  {
   "cell_type": "code",
   "execution_count": 5,
   "metadata": {},
   "outputs": [
    {
     "data": {
      "text/plain": [
       "(4, 5)"
      ]
     },
     "execution_count": 5,
     "metadata": {},
     "output_type": "execute_result"
    }
   ],
   "source": [
    "audio_pt = torch.load(audio_path)\n",
    "shape_pt = torch.load(shape_path)\n",
    "\n",
    "len(audio_pt), len(shape_pt)"
   ]
  },
  {
   "cell_type": "code",
   "execution_count": 7,
   "metadata": {},
   "outputs": [
    {
     "data": {
      "text/plain": [
       "(torch.Size([598]), torch.Size([598]))"
      ]
     },
     "execution_count": 7,
     "metadata": {},
     "output_type": "execute_result"
    }
   ],
   "source": [
    "audio_pt[3].shape, shape_pt[4].shape"
   ]
  },
  {
   "cell_type": "code",
   "execution_count": 12,
   "metadata": {},
   "outputs": [
    {
     "data": {
      "text/plain": [
       "(tensor(4085, dtype=torch.int32), tensor(2457, dtype=torch.int32))"
      ]
     },
     "execution_count": 12,
     "metadata": {},
     "output_type": "execute_result"
    }
   ],
   "source": [
    "len_spec = audio_pt[3]\n",
    "len_shape = shape_pt[4]\n",
    "\n",
    "idx = 400\n",
    "\n",
    "len_spec[idx], len_shape[idx]"
   ]
  },
  {
   "cell_type": "code",
   "execution_count": 14,
   "metadata": {},
   "outputs": [
    {
     "data": {
      "text/plain": [
       "('/root/mediazen/speech2anim/essentials/essentials_hynew/audio_ggongggong.pt',\n",
       " '/root/mediazen/speech2anim/essentials/essentials_hynew/shape_ggongggong.pt')"
      ]
     },
     "execution_count": 14,
     "metadata": {},
     "output_type": "execute_result"
    }
   ],
   "source": [
    "## check hynew data\n",
    "\n",
    "data_dir = '/root/mediazen/speech2anim/essentials/essentials_hynew/'\n",
    "essentials_dir = [d.path for d in os.scandir(data_dir) if d.path[-2:] == 'pt']\n",
    "audio_path, shape_path = essentials_dir\n",
    "audio_path, shape_path"
   ]
  },
  {
   "cell_type": "code",
   "execution_count": 15,
   "metadata": {},
   "outputs": [],
   "source": [
    "audio_pt = torch.load(audio_path)\n",
    "shape_pt = torch.load(shape_path)"
   ]
  },
  {
   "cell_type": "code",
   "execution_count": 20,
   "metadata": {},
   "outputs": [
    {
     "name": "stdout",
     "output_type": "stream",
     "text": [
      "torch.Size([4786, 161])\n"
     ]
    },
    {
     "data": {
      "image/png": "[encoded data removed]",
      "text/plain": [
       "<Figure size 432x288 with 2 Axes>"
      ]
     },
     "metadata": {
      "needs_background": "light"
     },
     "output_type": "display_data"
    },
    {
     "data": {
      "text/html": [
       "<div>\n",
       "<style scoped>\n",
       "    .dataframe tbody tr th:only-of-type {\n",
       "        vertical-align: middle;\n",
       "    }\n",
       "\n",
       "    .dataframe tbody tr th {\n",
       "        vertical-align: top;\n",
       "    }\n",
       "\n",
       "    .dataframe thead th {\n",
       "        text-align: right;\n",
       "    }\n",
       "</style>\n",
       "<table border=\"1\" class=\"dataframe\">\n",
       "  <thead>\n",
       "    <tr style=\"text-align: right;\">\n",
       "      <th></th>\n",
       "      <th>Timecodes</th>\n",
       "      <th>JawForward</th>\n",
       "      <th>JawOpen</th>\n",
       "      <th>MouthClose</th>\n",
       "      <th>MouthFunnel</th>\n",
       "      <th>MouthPucker</th>\n",
       "      <th>MouthDimpleLeft</th>\n",
       "      <th>MouthDimpleRight</th>\n",
       "      <th>MouthStretchLeft</th>\n",
       "      <th>MouthStretchRight</th>\n",
       "      <th>MouthRollLower</th>\n",
       "      <th>MouthRollUpper</th>\n",
       "      <th>MouthShrugLower</th>\n",
       "      <th>MouthShrugUpper</th>\n",
       "      <th>MouthPressLeft</th>\n",
       "      <th>MouthPressRight</th>\n",
       "      <th>CheekPuff</th>\n",
       "    </tr>\n",
       "  </thead>\n",
       "  <tbody>\n",
       "    <tr>\n",
       "      <th>0</th>\n",
       "      <td>1.804542e+10</td>\n",
       "      <td>0.001882</td>\n",
       "      <td>0.005914</td>\n",
       "      <td>0.007011</td>\n",
       "      <td>0.007136</td>\n",
       "      <td>0.021850</td>\n",
       "      <td>0.002155</td>\n",
       "      <td>0.002515</td>\n",
       "      <td>0.010563</td>\n",
       "      <td>0.010917</td>\n",
       "      <td>0.005494</td>\n",
       "      <td>0.002662</td>\n",
       "      <td>0.002400</td>\n",
       "      <td>0.000000</td>\n",
       "      <td>0.007176</td>\n",
       "      <td>0.005939</td>\n",
       "      <td>0.003748</td>\n",
       "    </tr>\n",
       "    <tr>\n",
       "      <th>1</th>\n",
       "      <td>1.804542e+10</td>\n",
       "      <td>0.001892</td>\n",
       "      <td>0.005907</td>\n",
       "      <td>0.007002</td>\n",
       "      <td>0.007097</td>\n",
       "      <td>0.021761</td>\n",
       "      <td>0.002162</td>\n",
       "      <td>0.002523</td>\n",
       "      <td>0.010611</td>\n",
       "      <td>0.010980</td>\n",
       "      <td>0.005529</td>\n",
       "      <td>0.002648</td>\n",
       "      <td>0.002553</td>\n",
       "      <td>0.000000</td>\n",
       "      <td>0.007163</td>\n",
       "      <td>0.005914</td>\n",
       "      <td>0.003685</td>\n",
       "    </tr>\n",
       "    <tr>\n",
       "      <th>2</th>\n",
       "      <td>1.804542e+10</td>\n",
       "      <td>0.001904</td>\n",
       "      <td>0.005892</td>\n",
       "      <td>0.006984</td>\n",
       "      <td>0.007054</td>\n",
       "      <td>0.021678</td>\n",
       "      <td>0.002169</td>\n",
       "      <td>0.002532</td>\n",
       "      <td>0.010655</td>\n",
       "      <td>0.011047</td>\n",
       "      <td>0.005557</td>\n",
       "      <td>0.002633</td>\n",
       "      <td>0.002713</td>\n",
       "      <td>0.000000</td>\n",
       "      <td>0.007157</td>\n",
       "      <td>0.005891</td>\n",
       "      <td>0.003625</td>\n",
       "    </tr>\n",
       "    <tr>\n",
       "      <th>3</th>\n",
       "      <td>1.804542e+10</td>\n",
       "      <td>0.001914</td>\n",
       "      <td>0.005881</td>\n",
       "      <td>0.006968</td>\n",
       "      <td>0.007002</td>\n",
       "      <td>0.021592</td>\n",
       "      <td>0.002147</td>\n",
       "      <td>0.002507</td>\n",
       "      <td>0.010687</td>\n",
       "      <td>0.011098</td>\n",
       "      <td>0.005578</td>\n",
       "      <td>0.002610</td>\n",
       "      <td>0.002860</td>\n",
       "      <td>0.000000</td>\n",
       "      <td>0.007126</td>\n",
       "      <td>0.005848</td>\n",
       "      <td>0.003564</td>\n",
       "    </tr>\n",
       "    <tr>\n",
       "      <th>4</th>\n",
       "      <td>1.804542e+10</td>\n",
       "      <td>0.001931</td>\n",
       "      <td>0.005886</td>\n",
       "      <td>0.006967</td>\n",
       "      <td>0.006969</td>\n",
       "      <td>0.021507</td>\n",
       "      <td>0.002147</td>\n",
       "      <td>0.002510</td>\n",
       "      <td>0.010743</td>\n",
       "      <td>0.011183</td>\n",
       "      <td>0.005620</td>\n",
       "      <td>0.002599</td>\n",
       "      <td>0.003036</td>\n",
       "      <td>0.000000</td>\n",
       "      <td>0.007123</td>\n",
       "      <td>0.005825</td>\n",
       "      <td>0.003514</td>\n",
       "    </tr>\n",
       "    <tr>\n",
       "      <th>...</th>\n",
       "      <td>...</td>\n",
       "      <td>...</td>\n",
       "      <td>...</td>\n",
       "      <td>...</td>\n",
       "      <td>...</td>\n",
       "      <td>...</td>\n",
       "      <td>...</td>\n",
       "      <td>...</td>\n",
       "      <td>...</td>\n",
       "      <td>...</td>\n",
       "      <td>...</td>\n",
       "      <td>...</td>\n",
       "      <td>...</td>\n",
       "      <td>...</td>\n",
       "      <td>...</td>\n",
       "      <td>...</td>\n",
       "      <td>...</td>\n",
       "    </tr>\n",
       "    <tr>\n",
       "      <th>2873</th>\n",
       "      <td>1.805422e+10</td>\n",
       "      <td>0.003900</td>\n",
       "      <td>0.007670</td>\n",
       "      <td>0.007694</td>\n",
       "      <td>0.010319</td>\n",
       "      <td>0.029793</td>\n",
       "      <td>0.011531</td>\n",
       "      <td>0.012816</td>\n",
       "      <td>0.015513</td>\n",
       "      <td>0.014817</td>\n",
       "      <td>0.012865</td>\n",
       "      <td>0.005321</td>\n",
       "      <td>0.031761</td>\n",
       "      <td>0.021034</td>\n",
       "      <td>0.024213</td>\n",
       "      <td>0.023090</td>\n",
       "      <td>0.005755</td>\n",
       "    </tr>\n",
       "    <tr>\n",
       "      <th>2874</th>\n",
       "      <td>1.805422e+10</td>\n",
       "      <td>0.003712</td>\n",
       "      <td>0.007471</td>\n",
       "      <td>0.007446</td>\n",
       "      <td>0.009969</td>\n",
       "      <td>0.029164</td>\n",
       "      <td>0.011081</td>\n",
       "      <td>0.012304</td>\n",
       "      <td>0.014966</td>\n",
       "      <td>0.014295</td>\n",
       "      <td>0.012316</td>\n",
       "      <td>0.005192</td>\n",
       "      <td>0.029451</td>\n",
       "      <td>0.019462</td>\n",
       "      <td>0.023196</td>\n",
       "      <td>0.022122</td>\n",
       "      <td>0.005568</td>\n",
       "    </tr>\n",
       "    <tr>\n",
       "      <th>2875</th>\n",
       "      <td>1.805422e+10</td>\n",
       "      <td>0.003547</td>\n",
       "      <td>0.007313</td>\n",
       "      <td>0.007253</td>\n",
       "      <td>0.009680</td>\n",
       "      <td>0.028552</td>\n",
       "      <td>0.010684</td>\n",
       "      <td>0.011856</td>\n",
       "      <td>0.014505</td>\n",
       "      <td>0.013862</td>\n",
       "      <td>0.011827</td>\n",
       "      <td>0.005094</td>\n",
       "      <td>0.027275</td>\n",
       "      <td>0.017740</td>\n",
       "      <td>0.022333</td>\n",
       "      <td>0.021277</td>\n",
       "      <td>0.005399</td>\n",
       "    </tr>\n",
       "    <tr>\n",
       "      <th>2876</th>\n",
       "      <td>1.805422e+10</td>\n",
       "      <td>0.003389</td>\n",
       "      <td>0.007160</td>\n",
       "      <td>0.007068</td>\n",
       "      <td>0.009390</td>\n",
       "      <td>0.027972</td>\n",
       "      <td>0.010291</td>\n",
       "      <td>0.011412</td>\n",
       "      <td>0.014033</td>\n",
       "      <td>0.013415</td>\n",
       "      <td>0.011351</td>\n",
       "      <td>0.005002</td>\n",
       "      <td>0.025184</td>\n",
       "      <td>0.016141</td>\n",
       "      <td>0.021507</td>\n",
       "      <td>0.020462</td>\n",
       "      <td>0.005228</td>\n",
       "    </tr>\n",
       "    <tr>\n",
       "      <th>2877</th>\n",
       "      <td>1.805422e+10</td>\n",
       "      <td>0.003237</td>\n",
       "      <td>0.007024</td>\n",
       "      <td>0.006908</td>\n",
       "      <td>0.009115</td>\n",
       "      <td>0.027405</td>\n",
       "      <td>0.009921</td>\n",
       "      <td>0.010997</td>\n",
       "      <td>0.013585</td>\n",
       "      <td>0.012990</td>\n",
       "      <td>0.010902</td>\n",
       "      <td>0.004919</td>\n",
       "      <td>0.023241</td>\n",
       "      <td>0.014578</td>\n",
       "      <td>0.020703</td>\n",
       "      <td>0.019670</td>\n",
       "      <td>0.005051</td>\n",
       "    </tr>\n",
       "  </tbody>\n",
       "</table>\n",
       "<p>2878 rows × 17 columns</p>\n",
       "</div>"
      ],
      "text/plain": [
       "         Timecodes  JawForward   JawOpen  MouthClose  MouthFunnel  \\\n",
       "0     1.804542e+10    0.001882  0.005914    0.007011     0.007136   \n",
       "1     1.804542e+10    0.001892  0.005907    0.007002     0.007097   \n",
       "2     1.804542e+10    0.001904  0.005892    0.006984     0.007054   \n",
       "3     1.804542e+10    0.001914  0.005881    0.006968     0.007002   \n",
       "4     1.804542e+10    0.001931  0.005886    0.006967     0.006969   \n",
       "...            ...         ...       ...         ...          ...   \n",
       "2873  1.805422e+10    0.003900  0.007670    0.007694     0.010319   \n",
       "2874  1.805422e+10    0.003712  0.007471    0.007446     0.009969   \n",
       "2875  1.805422e+10    0.003547  0.007313    0.007253     0.009680   \n",
       "2876  1.805422e+10    0.003389  0.007160    0.007068     0.009390   \n",
       "2877  1.805422e+10    0.003237  0.007024    0.006908     0.009115   \n",
       "\n",
       "      MouthPucker  MouthDimpleLeft  MouthDimpleRight  MouthStretchLeft  \\\n",
       "0        0.021850         0.002155          0.002515          0.010563   \n",
       "1        0.021761         0.002162          0.002523          0.010611   \n",
       "2        0.021678         0.002169          0.002532          0.010655   \n",
       "3        0.021592         0.002147          0.002507          0.010687   \n",
       "4        0.021507         0.002147          0.002510          0.010743   \n",
       "...           ...              ...               ...               ...   \n",
       "2873     0.029793         0.011531          0.012816          0.015513   \n",
       "2874     0.029164         0.011081          0.012304          0.014966   \n",
       "2875     0.028552         0.010684          0.011856          0.014505   \n",
       "2876     0.027972         0.010291          0.011412          0.014033   \n",
       "2877     0.027405         0.009921          0.010997          0.013585   \n",
       "\n",
       "      MouthStretchRight  MouthRollLower  MouthRollUpper  MouthShrugLower  \\\n",
       "0              0.010917        0.005494        0.002662         0.002400   \n",
       "1              0.010980        0.005529        0.002648         0.002553   \n",
       "2              0.011047        0.005557        0.002633         0.002713   \n",
       "3              0.011098        0.005578        0.002610         0.002860   \n",
       "4              0.011183        0.005620        0.002599         0.003036   \n",
       "...                 ...             ...             ...              ...   \n",
       "2873           0.014817        0.012865        0.005321         0.031761   \n",
       "2874           0.014295        0.012316        0.005192         0.029451   \n",
       "2875           0.013862        0.011827        0.005094         0.027275   \n",
       "2876           0.013415        0.011351        0.005002         0.025184   \n",
       "2877           0.012990        0.010902        0.004919         0.023241   \n",
       "\n",
       "      MouthShrugUpper  MouthPressLeft  MouthPressRight  CheekPuff  \n",
       "0            0.000000        0.007176         0.005939   0.003748  \n",
       "1            0.000000        0.007163         0.005914   0.003685  \n",
       "2            0.000000        0.007157         0.005891   0.003625  \n",
       "3            0.000000        0.007126         0.005848   0.003564  \n",
       "4            0.000000        0.007123         0.005825   0.003514  \n",
       "...               ...             ...              ...        ...  \n",
       "2873         0.021034        0.024213         0.023090   0.005755  \n",
       "2874         0.019462        0.023196         0.022122   0.005568  \n",
       "2875         0.017740        0.022333         0.021277   0.005399  \n",
       "2876         0.016141        0.021507         0.020462   0.005228  \n",
       "2877         0.014578        0.020703         0.019670   0.005051  \n",
       "\n",
       "[2878 rows x 17 columns]"
      ]
     },
     "execution_count": 20,
     "metadata": {},
     "output_type": "execute_result"
    }
   ],
   "source": [
    "idx = 2\n",
    "\n",
    "length_wav = audio_pt[3][idx]\n",
    "sample_padded_spec = audio_pt[2][idx][:length_wav]\n",
    "\n",
    "print(sample_padded_spec.shape)\n",
    "plot_spectrogram(sample_padded_spec.T)\n",
    "\n",
    "\n",
    "length_shape = shape_pt[4][idx]\n",
    "\n",
    "timecodes = shape_pt[0][idx][:length_shape]\n",
    "shape_value = shape_pt[3][idx][:length_shape]\n",
    "\n",
    "merge = torch.cat([timecodes.unsqueeze(1), shape_value], dim=1)\n",
    "merge.T.shape\n",
    "\n",
    "pd.DataFrame(np.array(merge), columns=['Timecodes']+shape_pt[2][0])"
   ]
  },
  {
   "cell_type": "code",
   "execution_count": 21,
   "metadata": {},
   "outputs": [
    {
     "data": {
      "text/plain": [
       "tensor([[nan, nan, nan,  ..., nan, nan, nan],\n",
       "        [nan, nan, nan,  ..., nan, nan, nan],\n",
       "        [nan, nan, nan,  ..., nan, nan, nan],\n",
       "        ...,\n",
       "        [nan, nan, nan,  ..., nan, nan, nan],\n",
       "        [nan, nan, nan,  ..., nan, nan, nan],\n",
       "        [nan, nan, nan,  ..., nan, nan, nan]])"
      ]
     },
     "execution_count": 21,
     "metadata": {},
     "output_type": "execute_result"
    }
   ],
   "source": [
    "sample_padded_spec"
   ]
  },
  {
   "cell_type": "code",
   "execution_count": 25,
   "metadata": {},
   "outputs": [
    {
     "name": "stdout",
     "output_type": "stream",
     "text": [
      "2\n"
     ]
    }
   ],
   "source": [
    "for idx, spec in enumerate(audio_pt[2]):\n",
    "    if torch.isnan(spec).sum() > 0:\n",
    "        print(idx)"
   ]
  },
  {
   "cell_type": "code",
   "execution_count": 26,
   "metadata": {},
   "outputs": [
    {
     "data": {
      "text/plain": [
       "(16000,\n",
       " tensor([  0,   1,   2,   3,   4,   5,   6,   7,   8,   9,  10,  11,  12,  13,\n",
       "          14,  15,  16,  17,  18,  19,  20,  21,  22,  23,  24,  25,  26,  27,\n",
       "          28,  29,  30,  31,  32,  33,  34,  35,  36,  37,  38,  39,  40,  41,\n",
       "          42,  43,  44,  45,  46,  47,  48,  49,  50,  51,  52,  53,  54,  55,\n",
       "          56,  57,  58,  59,  60,  61,  62,  63,  64,  65,  66,  67,  68,  69,\n",
       "          70,  71,  72,  73,  74,  75,  76,  77,  78,  79,  80,  81,  82,  83,\n",
       "          84,  85,  86,  87,  88,  89,  90,  91,  92,  93,  94,  95,  96,  97,\n",
       "          98,  99, 100, 101, 102, 103, 104, 105, 106, 107, 108, 109, 110, 111,\n",
       "         112, 113, 114, 115, 116, 117, 118, 119, 120, 121, 122, 123, 124, 125,\n",
       "         126, 127, 128, 129, 130, 131, 132, 133, 134, 135, 136, 137, 138, 139,\n",
       "         140, 141, 142, 143, 144, 145, 146, 147, 148, 149, 150, 151, 152, 153,\n",
       "         154, 155, 156, 157, 158, 159, 160, 161, 162, 163, 164, 165, 166, 167,\n",
       "         168, 169, 170, 171, 172, 173, 174, 175, 176, 177, 178, 179, 180, 181,\n",
       "         182, 183, 184, 185, 186, 187, 188, 189, 190, 191, 192, 193, 194, 195,\n",
       "         196, 197, 198], dtype=torch.int32),\n",
       " tensor([[[-0.2201, -0.2339, -0.2613,  ..., -0.2776, -0.2777, -0.2779],\n",
       "          [-0.0426, -0.1383, -0.2570,  ..., -0.2777, -0.2777, -0.2776],\n",
       "          [-0.2193, -0.1401, -0.2579,  ..., -0.2768, -0.2770, -0.2774],\n",
       "          ...,\n",
       "          [ 0.0000,  0.0000,  0.0000,  ...,  0.0000,  0.0000,  0.0000],\n",
       "          [ 0.0000,  0.0000,  0.0000,  ...,  0.0000,  0.0000,  0.0000],\n",
       "          [ 0.0000,  0.0000,  0.0000,  ...,  0.0000,  0.0000,  0.0000]],\n",
       " \n",
       "         [[-0.2531, -0.2539, -0.2578,  ..., -0.2733, -0.2733, -0.2733],\n",
       "          [-0.0729, -0.0880, -0.2043,  ..., -0.2728, -0.2732, -0.2733],\n",
       "          [-0.2520,  0.1015, -0.1783,  ..., -0.2726, -0.2728, -0.2730],\n",
       "          ...,\n",
       "          [ 0.0000,  0.0000,  0.0000,  ...,  0.0000,  0.0000,  0.0000],\n",
       "          [ 0.0000,  0.0000,  0.0000,  ...,  0.0000,  0.0000,  0.0000],\n",
       "          [ 0.0000,  0.0000,  0.0000,  ...,  0.0000,  0.0000,  0.0000]],\n",
       " \n",
       "         [[    nan,     nan,     nan,  ...,     nan,     nan,     nan],\n",
       "          [    nan,     nan,     nan,  ...,     nan,     nan,     nan],\n",
       "          [    nan,     nan,     nan,  ...,     nan,     nan,     nan],\n",
       "          ...,\n",
       "          [ 0.0000,  0.0000,  0.0000,  ...,  0.0000,  0.0000,  0.0000],\n",
       "          [ 0.0000,  0.0000,  0.0000,  ...,  0.0000,  0.0000,  0.0000],\n",
       "          [ 0.0000,  0.0000,  0.0000,  ...,  0.0000,  0.0000,  0.0000]],\n",
       " \n",
       "         ...,\n",
       " \n",
       "         [[-0.2229, -0.2254, -0.2316,  ..., -0.2442, -0.2443, -0.2444],\n",
       "          [ 0.1223, -0.0248, -0.2093,  ..., -0.2434, -0.2441, -0.2440],\n",
       "          [ 0.1923,  0.0846, -0.1581,  ..., -0.2439, -0.2444, -0.2431],\n",
       "          ...,\n",
       "          [ 0.0000,  0.0000,  0.0000,  ...,  0.0000,  0.0000,  0.0000],\n",
       "          [ 0.0000,  0.0000,  0.0000,  ...,  0.0000,  0.0000,  0.0000],\n",
       "          [ 0.0000,  0.0000,  0.0000,  ...,  0.0000,  0.0000,  0.0000]],\n",
       " \n",
       "         [[-0.2518, -0.2521, -0.2526,  ..., -0.2577, -0.2576, -0.2575],\n",
       "          [-0.2539, -0.2490, -0.2513,  ..., -0.2574, -0.2572, -0.2567],\n",
       "          [-0.1003, -0.1597, -0.2414,  ..., -0.2563, -0.2571, -0.2575],\n",
       "          ...,\n",
       "          [-0.2488, -0.2059, -0.1856,  ..., -0.2570, -0.2570, -0.2574],\n",
       "          [-0.2521, -0.2569, -0.2523,  ..., -0.2577, -0.2577, -0.2577],\n",
       "          [-0.2576, -0.2576, -0.2576,  ..., -0.2579, -0.2579, -0.2579]],\n",
       " \n",
       "         [[-0.2539, -0.2541, -0.2543,  ..., -0.2555, -0.2555, -0.2555],\n",
       "          [-0.2310, -0.2218, -0.2126,  ..., -0.2546, -0.2549, -0.2551],\n",
       "          [-0.2258, -0.1672, -0.1615,  ..., -0.2543, -0.2548, -0.2552],\n",
       "          ...,\n",
       "          [ 0.0000,  0.0000,  0.0000,  ...,  0.0000,  0.0000,  0.0000],\n",
       "          [ 0.0000,  0.0000,  0.0000,  ...,  0.0000,  0.0000,  0.0000],\n",
       "          [ 0.0000,  0.0000,  0.0000,  ...,  0.0000,  0.0000,  0.0000]]]),\n",
       " tensor([4914, 5109, 4786, 4310, 4419, 4721, 4078, 4628, 4700, 5079, 4832, 4598,\n",
       "         4419, 5081, 4222, 5169, 4556, 4261, 4310, 3962, 4157, 4229, 4433, 4068,\n",
       "         4015, 3409, 5090, 4229, 4670, 4301, 4760, 4589, 4168, 4454, 4853, 4445,\n",
       "         4626, 4802, 4835, 4640, 4607, 4484, 4468, 5181, 5308, 5032, 5090, 5039,\n",
       "         5877, 4814, 4916, 5380, 4895, 4844, 4628, 5097, 5088, 5109, 5090, 5086,\n",
       "         4726, 4714, 5120, 5313, 5160, 5069, 5058, 4837, 5181, 5060, 5401, 5009,\n",
       "         4988, 4700, 5295, 5264, 5490, 5048, 5120, 5304, 5580, 4380, 5520, 5160,\n",
       "         4874, 5009, 5283, 4946, 5151, 5079, 5079, 4997, 4250, 4712, 4802, 5833,\n",
       "         5427, 4949, 5448, 5079, 4958, 5067, 5315, 4250, 4238, 4517, 4700, 4607,\n",
       "         4770, 4721, 4473, 4884, 4793, 4517, 4942, 4816, 4798, 4412, 4565, 4466,\n",
       "         5058, 4793, 4981, 5016, 4772, 4556, 4582, 5088, 4949, 5808, 4895, 4900,\n",
       "         6379, 5643, 6655, 6655, 6994, 5979, 5582, 6049, 6565, 6820, 5622, 6005,\n",
       "         6337, 6216, 5970, 6653, 6892, 7271, 6808, 6827, 6625, 6890, 7925, 6667,\n",
       "         7280, 6358, 5996, 6493, 5949, 6583, 6047, 6133, 6237, 5197, 4616, 5181,\n",
       "         6551, 6267, 7038, 7229, 6237, 7470, 6226, 7445, 7034, 7352, 6142, 8202,\n",
       "         7463, 6260, 7013, 7449, 5826, 7117, 7419, 7343, 6922, 6922, 7173, 6994,\n",
       "         6613, 7343, 7045, 8111, 7470, 8376, 5062], dtype=torch.int32))"
      ]
     },
     "execution_count": 26,
     "metadata": {},
     "output_type": "execute_result"
    }
   ],
   "source": []
  },
  {
   "cell_type": "code",
   "execution_count": null,
   "metadata": {},
   "outputs": [],
   "source": []
  },
  {
   "cell_type": "code",
   "execution_count": null,
   "metadata": {},
   "outputs": [],
   "source": []
  }
 ],
 "metadata": {
  "kernelspec": {
   "display_name": "Python 3.8.8 ('torch18')",
   "language": "python",
   "name": "python3"
  },
  "language_info": {
   "codemirror_mode": {
    "name": "ipython",
    "version": 3
   },
   "file_extension": ".py",
   "mimetype": "text/x-python",
   "name": "python",
   "nbconvert_exporter": "python",
   "pygments_lexer": "ipython3",
   "version": "3.8.8"
  },
  "orig_nbformat": 4,
  "vscode": {
   "interpreter": {
    "hash": "98f3181f4900a3173dff2251935f87d1f345563f3a07cb125f858d750ad52894"
   }
  }
 },
 "nbformat": 4,
 "nbformat_minor": 2
}
