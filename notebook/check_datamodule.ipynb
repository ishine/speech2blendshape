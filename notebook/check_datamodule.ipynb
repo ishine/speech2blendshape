{
 "cells": [
  {
   "cell_type": "code",
   "execution_count": 2,
   "metadata": {},
   "outputs": [],
   "source": [
    "%load_ext autoreload\n",
    "%autoreload 2"
   ]
  },
  {
   "cell_type": "code",
   "execution_count": 3,
   "metadata": {},
   "outputs": [],
   "source": [
    "import os\n",
    "import os.path as osp\n",
    "from glob import glob\n",
    "from tqdm.auto import tqdm\n",
    "import re\n",
    "\n",
    "import numpy as np\n",
    "from sklearn.model_selection import StratifiedShuffleSplit\n",
    "import torch\n",
    "\n",
    "import sys\n",
    "sys.path.append('/root/mediazen/speech2blendshape')\n",
    "sys.path.append('/home/youngkim21/speech2blendshape')\n",
    "\n",
    "from src.datasets.new_dataset import FaceDataset, GGongGGongDataset\n",
    "from src.datasets.new_datamodule import FaceDataModule, GGongGGongDataModule\n",
    "from src.utils import plot_spectrogram, plot_result"
   ]
  },
  {
   "cell_type": "code",
   "execution_count": 4,
   "metadata": {},
   "outputs": [],
   "source": [
    "dm = GGongGGongDataModule(\n",
    "    base_dir='/neovox/youngkim/mediazen/',\n",
    "    batch_size=32,\n",
    "    num_workers=16,\n",
    "    seed=1234,\n",
    "    blendshape_columns=[\n",
    "        'JawForward',\n",
    "        'JawOpen',\n",
    "        'MouthClose',\n",
    "        'MouthFunnel',\n",
    "        'MouthPucker',\n",
    "        'MouthDimpleLeft',\n",
    "        'MouthDimpleRight',\n",
    "        'MouthStretchLeft',\n",
    "        'MouthStretchRight',\n",
    "        'MouthRollLower',\n",
    "        'MouthRollUpper',\n",
    "        'MouthShrugLower',\n",
    "        'MouthShrugUpper',\n",
    "        'MouthPressLeft',\n",
    "        'MouthPressRight',\n",
    "        'CheekPuff'\n",
    "        ]\n",
    ")"
   ]
  },
  {
   "cell_type": "code",
   "execution_count": 5,
   "metadata": {},
   "outputs": [],
   "source": [
    "dm.prepare_data()\n",
    "dm.setup()"
   ]
  },
  {
   "cell_type": "code",
   "execution_count": 13,
   "metadata": {},
   "outputs": [],
   "source": [
    "train_dl = dm.train_dataloader()"
   ]
  },
  {
   "cell_type": "code",
   "execution_count": 14,
   "metadata": {},
   "outputs": [],
   "source": [
    "for batch in train_dl:\n",
    "    break"
   ]
  },
  {
   "cell_type": "code",
   "execution_count": 19,
   "metadata": {},
   "outputs": [
    {
     "data": {
      "text/plain": [
       "(torch.Size([32, 11682, 161]),\n",
       " torch.Size([32]),\n",
       " torch.Size([32, 7012, 16]),\n",
       " torch.Size([32]))"
      ]
     },
     "execution_count": 19,
     "metadata": {},
     "output_type": "execute_result"
    }
   ],
   "source": [
    "x, x_length, y, y_length = batch\n",
    "x.shape, x_length.shape, y.shape, y_length.shape"
   ]
  },
  {
   "cell_type": "code",
   "execution_count": 20,
   "metadata": {},
   "outputs": [
    {
     "data": {
      "text/plain": [
       "tensor(4470, dtype=torch.int32)"
      ]
     },
     "execution_count": 20,
     "metadata": {},
     "output_type": "execute_result"
    }
   ],
   "source": [
    "max(y_length)"
   ]
  },
  {
   "cell_type": "code",
   "execution_count": 6,
   "metadata": {},
   "outputs": [],
   "source": [
    "for batch in dm.test_dataloader():\n",
    "    break"
   ]
  },
  {
   "cell_type": "code",
   "execution_count": 8,
   "metadata": {},
   "outputs": [
    {
     "data": {
      "text/plain": [
       "(torch.Size([32, 11682, 161]),\n",
       " torch.Size([32]),\n",
       " torch.Size([32, 7012, 16]),\n",
       " torch.Size([32]),\n",
       " torch.Size([32]),\n",
       " torch.Size([32, 7012]),\n",
       " 32)"
      ]
     },
     "execution_count": 8,
     "metadata": {},
     "output_type": "execute_result"
    }
   ],
   "source": [
    "x, x_length, y, y_length, indices, timecodes, f_names = batch\n",
    "x.shape, x_length.shape, y.shape, y_length.shape, indices.shape, timecodes.shape, len(f_names),"
   ]
  },
  {
   "cell_type": "code",
   "execution_count": 10,
   "metadata": {},
   "outputs": [
    {
     "data": {
      "text/plain": [
       "(tensor(6063, dtype=torch.int32), tensor(3641, dtype=torch.int32))"
      ]
     },
     "execution_count": 10,
     "metadata": {},
     "output_type": "execute_result"
    }
   ],
   "source": [
    "x_length[0], y_length[0]"
   ]
  },
  {
   "cell_type": "code",
   "execution_count": 11,
   "metadata": {},
   "outputs": [
    {
     "data": {
      "text/plain": [
       "tensor(5581, dtype=torch.int32)"
      ]
     },
     "execution_count": 11,
     "metadata": {},
     "output_type": "execute_result"
    }
   ],
   "source": [
    "max(y_length)"
   ]
  },
  {
   "cell_type": "code",
   "execution_count": null,
   "metadata": {},
   "outputs": [],
   "source": []
  }
 ],
 "metadata": {
  "kernelspec": {
   "display_name": "Python 3.8.8 ('torch18')",
   "language": "python",
   "name": "python3"
  },
  "language_info": {
   "codemirror_mode": {
    "name": "ipython",
    "version": 3
   },
   "file_extension": ".py",
   "mimetype": "text/x-python",
   "name": "python",
   "nbconvert_exporter": "python",
   "pygments_lexer": "ipython3",
   "version": "3.8.8"
  },
  "orig_nbformat": 4,
  "vscode": {
   "interpreter": {
    "hash": "4929e1b14f0ed32f4601b83e328fc410fa396d217a4f3e5ddf4253c0166a9517"
   }
  }
 },
 "nbformat": 4,
 "nbformat_minor": 2
}
