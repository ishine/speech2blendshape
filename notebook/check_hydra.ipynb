{
 "cells": [
  {
   "cell_type": "code",
   "execution_count": 1,
   "metadata": {},
   "outputs": [],
   "source": [
    "%load_ext autoreload\n",
    "%autoreload 2"
   ]
  },
  {
   "cell_type": "code",
   "execution_count": 2,
   "metadata": {},
   "outputs": [],
   "source": [
    "import os\n",
    "from hydra import initialize, initialize_config_module, initialize_config_dir, compose\n",
    "from omegaconf import OmegaConf"
   ]
  },
  {
   "cell_type": "code",
   "execution_count": 3,
   "metadata": {},
   "outputs": [
    {
     "name": "stdout",
     "output_type": "stream",
     "text": [
      "name: first_try\n",
      "seed: 1234\n",
      "resume: false\n",
      "debug: false\n",
      "project: mediazen\n",
      "entity: normalkim\n",
      "datamodule:\n",
      "  batch_size: 32\n",
      "  num_workers: 64\n",
      "  blendshape_columns:\n",
      "  - JawForward\n",
      "  - JawOpen\n",
      "  - MouthClose\n",
      "  - MouthFunnel\n",
      "  - MouthPucker\n",
      "  - MouthDimpleLeft\n",
      "  - MouthDimpleRight\n",
      "  - MouthStretchLeft\n",
      "  - MouthStretchRight\n",
      "  - MouthRollLower\n",
      "  - MouthRollUpper\n",
      "  - MouthShrugLower\n",
      "  - MouthShrugUpper\n",
      "  - MouthPressLeft\n",
      "  - MouthPressRight\n",
      "  - CheekPuff\n",
      "model:\n",
      "  _target_: src.models.pl_model.S2BModel\n",
      "  lr: 0.0001\n",
      "  fc1_dim: 1024\n",
      "  fc2_dim: 1024\n",
      "  num_classes: 16\n",
      "  lambda_G: 100\n",
      "  save_name: ${name}\n",
      "path:\n",
      "  base_dir: /shared/air/youngkim/mediazen\n",
      "  data_dir: ${path.base_dir}/preprocessed/column16\n",
      "  checkpoint_dir: ${path.base_dir}/ckpt\n",
      "  pretrained: ${path.checkpoint_dir}/deepspeech_fc_finetune_expand_G_full_dataset-18:11:35:56/last.ckpt\n",
      "trainer:\n",
      "  es_monitor: v_loss_G_MSE\n",
      "  es_patience: 30\n",
      "  save_top_k: 2\n",
      "  monitor: v_loss_G_MSE\n",
      "  save_last: true\n",
      "  devices: 2\n",
      "  epoch: 1000\n",
      "  fast_dev_run: false\n",
      "  log_every_n_steps: 5\n",
      "  precision: 16\n",
      "\n"
     ]
    }
   ],
   "source": [
    "abs_config_dir=\"/root/mediazen/speech2blendshape/configs\"\n",
    "with initialize_config_dir(version_base=None, config_dir=abs_config_dir):\n",
    "    cfg = compose(config_name='config.yaml')\n",
    "    print(OmegaConf.to_yaml(cfg))"
   ]
  },
  {
   "cell_type": "code",
   "execution_count": 5,
   "metadata": {},
   "outputs": [
    {
     "data": {
      "text/plain": [
       "'/shared/air/youngkim/mediazen/preprocessed/column16'"
      ]
     },
     "execution_count": 5,
     "metadata": {},
     "output_type": "execute_result"
    }
   ],
   "source": [
    "cfg.path.data_dir"
   ]
  },
  {
   "cell_type": "code",
   "execution_count": null,
   "metadata": {},
   "outputs": [],
   "source": []
  },
  {
   "cell_type": "code",
   "execution_count": 15,
   "metadata": {},
   "outputs": [
    {
     "name": "stdout",
     "output_type": "stream",
     "text": [
      "first_try-19:08:07:45 first_try-19:08:07:45\n"
     ]
    }
   ],
   "source": [
    "from datetime import datetime\n",
    "\n",
    "dt_string = datetime.now().strftime(\"%d:%H:%M:%S\")\n",
    "dt_string = datetime.now().strftime(\"%d:%H:%M:%S\")\n",
    "cfg.name = f'{cfg.name}-{dt_string}'\n",
    "\n",
    "print(cfg.name, cfg.model.save_name)"
   ]
  },
  {
   "cell_type": "code",
   "execution_count": null,
   "metadata": {},
   "outputs": [],
   "source": []
  }
 ],
 "metadata": {
  "kernelspec": {
   "display_name": "Python 3.8.8 ('torch18')",
   "language": "python",
   "name": "python3"
  },
  "language_info": {
   "codemirror_mode": {
    "name": "ipython",
    "version": 3
   },
   "file_extension": ".py",
   "mimetype": "text/x-python",
   "name": "python",
   "nbconvert_exporter": "python",
   "pygments_lexer": "ipython3",
   "version": "3.8.8"
  },
  "orig_nbformat": 4,
  "vscode": {
   "interpreter": {
    "hash": "98f3181f4900a3173dff2251935f87d1f345563f3a07cb125f858d750ad52894"
   }
  }
 },
 "nbformat": 4,
 "nbformat_minor": 2
}
