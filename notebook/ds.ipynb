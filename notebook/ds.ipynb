{
 "cells": [
  {
   "cell_type": "code",
   "execution_count": 6,
   "metadata": {},
   "outputs": [],
   "source": [
    "%load_ext autoreload\n",
    "%autoreload 2"
   ]
  },
  {
   "cell_type": "code",
   "execution_count": 7,
   "metadata": {},
   "outputs": [],
   "source": [
    "import torch\n",
    "import torch.nn as nn\n",
    "\n",
    "\n",
    "import sys\n",
    "sys.path.append('/root/mediazen/speech2blendshape')\n",
    "\n",
    "from src.models.full_deepspeech import DeepSpeech"
   ]
  },
  {
   "cell_type": "code",
   "execution_count": 8,
   "metadata": {},
   "outputs": [],
   "source": [
    "model = DeepSpeech.load_model('/root/mediazen/speech2blendshape/pretrained/librispeech_pretrained_v2.pth')"
   ]
  },
  {
   "cell_type": "code",
   "execution_count": 9,
   "metadata": {},
   "outputs": [
    {
     "data": {
      "text/plain": [
       "(1024,\n",
       " 5,\n",
       " torch.nn.modules.rnn.LSTM,\n",
       " SpectConfig(sample_rate=16000, window_size=0.02, window_stride=0.01, window=<SpectrogramWindow.hamming: 'hamming'>),\n",
       " \"_'ABCDEFGHIJKLMNOPQRSTUVWXYZ \",\n",
       " True)"
      ]
     },
     "execution_count": 9,
     "metadata": {},
     "output_type": "execute_result"
    }
   ],
   "source": [
    "(model.hidden_size, \n",
    "model.hidden_layers, \n",
    "model.rnn_type, \n",
    "model.audio_conf, \n",
    "model.labels, \n",
    "model.bidirectional)"
   ]
  },
  {
   "cell_type": "code",
   "execution_count": null,
   "metadata": {},
   "outputs": [],
   "source": []
  }
 ],
 "metadata": {
  "kernelspec": {
   "display_name": "Python 3.8.8 ('torch18')",
   "language": "python",
   "name": "python3"
  },
  "language_info": {
   "codemirror_mode": {
    "name": "ipython",
    "version": 3
   },
   "file_extension": ".py",
   "mimetype": "text/x-python",
   "name": "python",
   "nbconvert_exporter": "python",
   "pygments_lexer": "ipython3",
   "version": "3.8.8"
  },
  "orig_nbformat": 4,
  "vscode": {
   "interpreter": {
    "hash": "98f3181f4900a3173dff2251935f87d1f345563f3a07cb125f858d750ad52894"
   }
  }
 },
 "nbformat": 4,
 "nbformat_minor": 2
}
